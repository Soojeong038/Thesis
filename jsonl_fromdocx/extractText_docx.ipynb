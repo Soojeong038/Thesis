{
 "cells": [
  {
   "cell_type": "code",
   "execution_count": 23,
   "id": "d858531c",
   "metadata": {},
   "outputs": [],
   "source": [
    "import re\n",
    "from docx import Document\n",
    "import unidecode"
   ]
  },
  {
   "cell_type": "code",
   "execution_count": 177,
   "id": "eb8afe01",
   "metadata": {},
   "outputs": [],
   "source": [
    "class extract_text:\n",
    "    '''\n",
    "    path = pdf file path\n",
    "    '''\n",
    "    def __init__(self,path):\n",
    "        self.path = path \n",
    "        \n",
    "    # extract full text\n",
    "    \n",
    "    def extraction(self):\n",
    "        document = Document(self.path)\n",
    "        \n",
    "        #get title \n",
    "        if len(document.core_properties.title) > 2:\n",
    "            self.title = document.core_properties.title\n",
    "        else:\n",
    "            self.title = ''\n",
    "        \n",
    "        #get full text\n",
    "        para= [self.title]\n",
    "        para[0]\n",
    "\n",
    "        count = 0\n",
    "        para_count = 0\n",
    "        while count < len(document.paragraphs)-1:\n",
    "            t = document.paragraphs[count+1].paragraph_format.left_indent\n",
    "            if t != None :\n",
    "                para[para_count] = para[para_count]+\" \"+document.paragraphs[count+1].text\n",
    "                count += 1\n",
    "            else:\n",
    "                para.append(document.paragraphs[count].text)\n",
    "                para_count += 1\n",
    "                count += 1           \n",
    "        para.append(document.paragraphs[len(document.paragraphs)-1].text)\n",
    "        \n",
    "        docText = '\\n\\n'.join(x for x in para)\n",
    "        \n",
    "        #split paragraphs\n",
    "        sp = re.split(\"\\n\\n\\n\", docText)\n",
    "        splitted = [unidecode.unidecode(x) for x in sp if len(x)>3]\n",
    "        \n",
    "        return splitted\n",
    "    \n",
    "    def clensing(self):\n",
    "        splitted = self.extraction() \n",
    "\n",
    "        self.paragraphs = []\n",
    "        cleansed =[]\n",
    "        for i in splitted :           \n",
    "            #remove linebreaking\n",
    "            temp = i.replace('\\n\\n',' ')\n",
    "            temp = temp.replace('\\n','')\n",
    "            temp = re.sub('\\s+',' ',temp)\n",
    "            cleansed.append(temp)        \n",
    "\n",
    "        return cleansed\n"
   ]
  },
  {
   "cell_type": "code",
   "execution_count": 179,
   "id": "7b92d009",
   "metadata": {},
   "outputs": [
    {
     "name": "stdout",
     "output_type": "stream",
     "text": [
      "MA 57, Maßnahmenbekanntgabe zu MA 57, MA 17 und Verein PEREGRINA - Bildungs-, Beratungs- und Therapiezentrum für Immigrantinnen, Prüfung des Vereines PEREGRINA\n",
      "['MA 57, Massnahmenbekanntgabe zu MA 57, MA 17 und Verein PEREGRINA - Bildungs-, Beratungs- und Therapiezentrum fur Immigrantinnen, Prufung des Vereines PEREGRINA', ' INHALTSVERZEICHNIS', 'ABKURZUNGSVERZEICHNIS', 'bzw. beziehungsweise MA Magistratsabteilung MA Magistratsabteilung Nr. Nummer Verein PEREGRINA Verein PEREGRINA - Bildungs-, Beratungs- und Therapiezentrum fur Immigrantinnen Verein PEREGRINA Verein PEREGRINA - Bildungs-, Beratungs- und Therapiezentrum fur Immigrantinnen', ' Erledigung des Prufungsberichtes Der Stadtrechnungshof Wien unterzog die Gebarung des Vereines PEREGRINA in den Jahren 2017 bis 2019 einer Prufung. Der diesbezugliche Bericht des Stadtrechnungshofes Wien wurde am 12. Mai 2021 veroffentlicht und im Rahmen der Sitzung des Stadtrechnungshofausschusses vom 20. Mai 2021 mit Beschluss zur Kenntnis genommen.', 'Kurzfassung des Prufungsberichtes Der Verein PEREGRINA bot in seinen Raumlichkeiten im 11. Wiener Gemeindebezirk Unterstutzung fur Immigrantinnen, Migrantinnen und Frauen mit migrantischem Hintergrund bei der Bewaltigung ihrer rechtlichen, sozialen, sprachlichen und psychischen Lebenssituation an.', 'Der Verein PEREGRINA erhielt Forderungen von den Magistratsabteilungen 57, 17, 7 (in einem Jahr), verschiedenen Bundesministerien sowie von der Europaischen Union. Von der Stadt Wien erhielt der Verein PEREGRINA im Betrachtungszeitraum der Jahre 2017 bis 2019 insgesamt rd. 909.000,-- EUR aus Subventionen und nationalen Ko-Forderungsmassnahmen-Mitteln.', 'Der Stadtrechnungshof Wien stellte Verbesserungsbedarf in der Organisation fest, obgleich der Verein PEREGRINA bereits mit der Erstellung eines umfassenden Organisationshandbuches begonnen hatte. Insbesondere die Grundlagen zu den Themen Beschreibung der wesentlichen, wiederkehrenden Arbeitsablaufe, Internes Kontrollsystem, Risikomanagement und Compliance-Managementsystem waren noch umfassend zu beschreiben.', 'Der Stadtrechnungshof Wien anerkannte das erkennbare Bemuhen des Vereines PEREGRINA um eine angemessene Organisation und um eine sowohl sparsame als auch wirtschaftliche Gebarung mit den offentlichen Mitteln. Die Prufung der finanziellen Gebarung gab keinen Anlass zu wesentlichen Beanstandungen, die zu einer Anderung der Einnahmen-Ausgaben-Rechnung gefuhrt hatten.', 'Bericht der MA 57 - Frauenservice Wien zum Stand der Umsetzung der Empfehlung Im Rahmen der Ausserung der gepruften Stelle wurde folgender Umsetzungsstand in Bezug auf die ergangene Empfehlung bekannt gegeben:', ' Umsetzungsstand im Einzelnen Begrundung bzw. Erlauterung der Massnahmenbekanntgabe seitens der gepruften Stelle unter Zuordnung zu der im oben genannten Bericht des Stadtrechnungshofes Wien erfolgten Empfehlung, der Stellungnahme zu dieser Empfehlung seitens der gepruften Stelle und allfalliger Gegenausserung des Stadtrechnungshofes Wien:', 'Empfehlung Nr. 1 Die durch den vorliegenden Bericht gewonnenen Erkenntnisse uber den Verein PEREGRINA sind bei kunftigen Uberprufungen der Endabrechnungen und weiteren Forderungsentscheidungen mit einzubeziehen und die Umsetzung der an die geprufte Stelle ergangenen Empfehlungen zu verfolgen. Stellungnahme der gepruften Stelle: Die Magistratsabteilung 57 leitete bereits eine Kontrolle der Umsetzung der Empfehlungen des Stadtrechnungshofes Wien an den Verein PEREGRINA in die Wege. Die Kontrolltatigkeiten werden laufend stattfinden und in den kunftigen Qualitatsgesprachen, Prufungen und bei weiteren Forderungsentscheidungen einbezogen werden. ', 'Massnahmenbekanntgabe der gepruften Stelle: Die Empfehlung wurde umgesetzt.', 'Fur den Stadtrechnungshofdirektor: Ing. Mag. Albert Schon Wien, im Februar 2022']\n"
     ]
    }
   ],
   "source": [
    "if __name__ == '__main__':\n",
    "    file = 'StRH-I-3-20-MA_57.docx'\n",
    "    test = extract_text(file)\n",
    "    txt = test.clensing()\n",
    "    print(test.title)\n",
    "    print(txt)"
   ]
  }
 ],
 "metadata": {
  "kernelspec": {
   "display_name": "myenv",
   "language": "python",
   "name": "myenv"
  },
  "language_info": {
   "codemirror_mode": {
    "name": "ipython",
    "version": 3
   },
   "file_extension": ".py",
   "mimetype": "text/x-python",
   "name": "python",
   "nbconvert_exporter": "python",
   "pygments_lexer": "ipython3",
   "version": "3.9.12"
  }
 },
 "nbformat": 4,
 "nbformat_minor": 5
}
