{
 "cells": [
  {
   "cell_type": "code",
   "execution_count": 1,
   "id": "ff2d9d02",
   "metadata": {},
   "outputs": [
    {
     "name": "stdout",
     "output_type": "stream",
     "text": [
      "importing Jupyter notebook from initialNER_docx.ipynb\n",
      "importing Jupyter notebook from extractText_docx.ipynb\n"
      "importing Jupyter notebook from walkThru.ipynb\n"
     ]
    }
   ],
   "source": [
    "import import_ipynb\n",
    "\n",
    "from initialNER_docx import *\n",
    "from walkThru import *\n",
    "\n",
    "import pandas as pd"
   ]
  },
  {
   "cell_type": "code",
   "execution_count": 2,
   "id": "f874257f",
   "metadata": {},
   "outputs": [],
   "source": [
    "def docxTojsonl(import_path,export_path):\n",
    "    \n",
    "    #get file list\n",
    "    files_list = files(import_path,'docx')    \n",
    "\n",
    "    #initial set of dataframe\n",
    "    ind = 0\n",
    "    cols = ['year_month','file_name','title']\n",
    "    info = pd.DataFrame(columns = cols)\n",
    "    \n",
    "    for i in files_list:\n",
    "        year = os.path.basename(i)\n",
    "        print(year)\n",
    "        \n",
    "        for j in files_list[i]:\n",
    "            file_path = i+'\\\\'+j\n",
    "\n",
    "            #extract text\n",
    "            document = extract_text(file_path)\n",
    "            extracted_paragraphs = document.clensing()\n",
    "\n",
    "            #inital ner\n",
    "            ner_init = ner(nlp, j, extracted_paragraphs)\n",
    "\n",
    "            #export as a jsonl file\n",
    "            export_jsonl(export_path, j, ner_init)\n",
    "\n",
    "            #store meta data\n",
    "            info.loc[ind] = [year, j, document.title]\n",
    "            \n",
    "            ind += 1   \n",
    "            \n",
    "    return info"
   ]
  },
  {
   "cell_type": "markdown",
   "id": "4dbb6bc8",
   "metadata": {},
   "source": [
    "# Test"
   ]
  },
  {
   "cell_type": "code",
   "execution_count": 3,
   "id": "435181d0",
   "metadata": {},
   "outputs": [],
   "source": [
    "import_path = \"C:\\\\Users\\\\sooje\\\\daten\\\\2021\\\\2021_01\"\n",
    "export_path = 'C:\\\\Users\\\\sooje\\\\init_data'"
   ]
  },
  {
   "cell_type": "code",
   "execution_count": 4,
   "id": "6f3df976",
   "metadata": {},
   "outputs": [
    {
     "name": "stdout",
     "output_type": "stream",
     "text": [
      "2021_01\n",
      "Successfully exported :  C:\\Users\\sooje\\init_data\\StRH-I-12-19.docx.jsonl\n",
      "Successfully exported :  C:\\Users\\sooje\\init_data\\StRH-I-17-18-MA2.docx.jsonl\n",
      "Successfully exported :  C:\\Users\\sooje\\init_data\\StRH-I-20-18-MA_51.docx.jsonl\n",
      "Successfully exported :  C:\\Users\\sooje\\init_data\\StRH-I-20-18-WBH.docx.jsonl\n",
      "Successfully exported :  C:\\Users\\sooje\\init_data\\StRH-I-4-19.docx.jsonl\n",
      "Successfully exported :  C:\\Users\\sooje\\init_data\\StRH-II-1-19.docx.jsonl\n",
      "Successfully exported :  C:\\Users\\sooje\\init_data\\StRH-II-1-20.docx.jsonl\n",
      "Successfully exported :  C:\\Users\\sooje\\init_data\\StRH-II-20-19.docx.jsonl\n",
      "Successfully exported :  C:\\Users\\sooje\\init_data\\StRH-II-21-18.docx.jsonl\n",
      "Successfully exported :  C:\\Users\\sooje\\init_data\\StRH-II-3-19.docx.jsonl\n",
      "Successfully exported :  C:\\Users\\sooje\\init_data\\StRH-II-30-19.docx.jsonl\n",
      "Successfully exported :  C:\\Users\\sooje\\init_data\\StRH-II-35-19.docx.jsonl\n",
      "Successfully exported :  C:\\Users\\sooje\\init_data\\StRH-II-4-19.docx.jsonl\n",
      "Successfully exported :  C:\\Users\\sooje\\init_data\\StRH-II-45-18.docx.jsonl\n",
      "Successfully exported :  C:\\Users\\sooje\\init_data\\StRH-II-46-18.docx.jsonl\n",
      "Successfully exported :  C:\\Users\\sooje\\init_data\\StRH-II-46-19.docx.jsonl\n",
      "Successfully exported :  C:\\Users\\sooje\\init_data\\StRH-II-47-18-KAV.docx.jsonl\n",
      "Successfully exported :  C:\\Users\\sooje\\init_data\\StRH-II-53-18.docx.jsonl\n",
      "Successfully exported :  C:\\Users\\sooje\\init_data\\StRH-II-6-20.docx.jsonl\n",
      "Successfully exported :  C:\\Users\\sooje\\init_data\\StRH-II-7-20.docx.jsonl\n",
      "Successfully exported :  C:\\Users\\sooje\\init_data\\StRH-III-33-19.docx.jsonl\n",
      "Successfully exported :  C:\\Users\\sooje\\init_data\\StRH-III-5-20.docx.jsonl\n",
      "Successfully exported :  C:\\Users\\sooje\\init_data\\StRH-IV-40-19.docx.jsonl\n",
      "Successfully exported :  C:\\Users\\sooje\\init_data\\StRH-IV-43-19.docx.jsonl\n",
      "Successfully exported :  C:\\Users\\sooje\\init_data\\StRH-SFR-1-19-KAV.docx.jsonl\n",
      "Successfully exported :  C:\\Users\\sooje\\init_data\\StRH-SFR-3-19-MA2.docx.jsonl\n",
      "Successfully exported :  C:\\Users\\sooje\\init_data\\StRH-SFR-5-18-KAV.docx.jsonl\n",
      "Successfully exported :  C:\\Users\\sooje\\init_data\\StRH-V-10-18.docx.jsonl\n",
      "Successfully exported :  C:\\Users\\sooje\\init_data\\StRH-V-10-19.docx.jsonl\n",
      "Successfully exported :  C:\\Users\\sooje\\init_data\\StRH-V-11-19.docx.jsonl\n",
      "Successfully exported :  C:\\Users\\sooje\\init_data\\StRH-V-15-18.docx.jsonl\n",
      "Successfully exported :  C:\\Users\\sooje\\init_data\\StRH-V-4-19.docx.jsonl\n",
      "Successfully exported :  C:\\Users\\sooje\\init_data\\StRH-V-6-20.docx.jsonl\n",
      "Successfully exported :  C:\\Users\\sooje\\init_data\\StRH-VI-1-18-MA36.docx.jsonl\n",
      "Successfully exported :  C:\\Users\\sooje\\init_data\\StRH-VI-2-19.docx.jsonl\n",
      "Successfully exported :  C:\\Users\\sooje\\init_data\\StRH-VI-2-20.docx.jsonl\n",
      "Successfully exported :  C:\\Users\\sooje\\init_data\\StRH-VI-3-19.docx.jsonl\n",
      "Successfully exported :  C:\\Users\\sooje\\init_data\\StRH-VI-5-19.docx.jsonl\n",
      "Successfully exported :  C:\\Users\\sooje\\init_data\\StRH-VI-5-20.docx.jsonl\n",
      "Successfully exported :  C:\\Users\\sooje\\init_data\\StRH-VIII-1-18.docx.jsonl\n",
      "Successfully exported :  C:\\Users\\sooje\\init_data\\StRH-VIII-10-19.docx.jsonl\n",
      "Successfully exported :  C:\\Users\\sooje\\init_data\\StRH-VIII-4-20.docx.jsonl\n"
     ]
    }
   ],
   "source": [
    "import_path = \"C:\\\\Users\\\\sooje\\\\daten\\\\2021\\\\2021_01\"\n",
    "export_path = 'C:\\\\Users\\\\sooje\\\\init_data'\n",
    "df_info = docxTojsonl(import_path, export_path)"
   ]
  },
  {
   "cell_type": "code",
   "execution_count": 5,
   "id": "14409605",
   "metadata": {},
   "outputs": [
    {
     "data": {
      "text/html": [
       "<div>\n",
       "<style scoped>\n",
       "    .dataframe tbody tr th:only-of-type {\n",
       "        vertical-align: middle;\n",
       "    }\n",
       "\n",
       "    .dataframe tbody tr th {\n",
       "        vertical-align: top;\n",
       "    }\n",
       "\n",
       "    .dataframe thead th {\n",
       "        text-align: right;\n",
       "    }\n",
       "</style>\n",
       "<table border=\"1\" class=\"dataframe\">\n",
       "  <thead>\n",
       "    <tr style=\"text-align: right;\">\n",
       "      <th></th>\n",
       "      <th>year_month</th>\n",
       "      <th>file_name</th>\n",
       "      <th>title</th>\n",
       "    </tr>\n",
       "  </thead>\n",
       "  <tbody>\n",
       "    <tr>\n",
       "      <th>0</th>\n",
       "      <td>2021_01</td>\n",
       "      <td>StRH-I-12-19.docx</td>\n",
       "      <td>Maßnahmenbekanntgabe zu MA 40, Prüfung der Neb...</td>\n",
       "    </tr>\n",
       "    <tr>\n",
       "      <th>1</th>\n",
       "      <td>2021_01</td>\n",
       "      <td>StRH-I-17-18-MA2.docx</td>\n",
       "      <td>MA 2, Maßnahmenbekanntgabe zu MA 2 und MA 34, ...</td>\n",
       "    </tr>\n",
       "    <tr>\n",
       "      <th>2</th>\n",
       "      <td>2021_01</td>\n",
       "      <td>StRH-I-20-18-MA_51.docx</td>\n",
       "      <td>MA 51, Maßnahmenbekanntgabe zu MA 51 und Wiene...</td>\n",
       "    </tr>\n",
       "    <tr>\n",
       "      <th>3</th>\n",
       "      <td>2021_01</td>\n",
       "      <td>StRH-I-20-18-WBH.docx</td>\n",
       "      <td>Wiener Arbeiter Turn- und Sportverein Gruppe B...</td>\n",
       "    </tr>\n",
       "    <tr>\n",
       "      <th>4</th>\n",
       "      <td>2021_01</td>\n",
       "      <td>StRH-I-4-19.docx</td>\n",
       "      <td>MA 56, Maßnahmenbekanntgabe zu MA 56 und MA 01...</td>\n",
       "    </tr>\n",
       "  </tbody>\n",
       "</table>\n",
       "</div>"
      ],
      "text/plain": [
       "  year_month                file_name  \\\n",
       "0    2021_01        StRH-I-12-19.docx   \n",
       "1    2021_01    StRH-I-17-18-MA2.docx   \n",
       "2    2021_01  StRH-I-20-18-MA_51.docx   \n",
       "3    2021_01    StRH-I-20-18-WBH.docx   \n",
       "4    2021_01         StRH-I-4-19.docx   \n",
       "\n",
       "                                               title  \n",
       "0  Maßnahmenbekanntgabe zu MA 40, Prüfung der Neb...  \n",
       "1  MA 2, Maßnahmenbekanntgabe zu MA 2 und MA 34, ...  \n",
       "2  MA 51, Maßnahmenbekanntgabe zu MA 51 und Wiene...  \n",
       "3  Wiener Arbeiter Turn- und Sportverein Gruppe B...  \n",
       "4  MA 56, Maßnahmenbekanntgabe zu MA 56 und MA 01...  "
      ]
     },
     "execution_count": 5,
     "metadata": {},
     "output_type": "execute_result"
    }
   ],
   "source": [
    "df_info[:5]"
   ]
  }
 ],
 "metadata": {
  "kernelspec": {
   "display_name": "myenv",
   "language": "python",
   "name": "myenv"
  },
  "language_info": {
   "codemirror_mode": {
    "name": "ipython",
    "version": 3
   },
   "file_extension": ".py",
   "mimetype": "text/x-python",
   "name": "python",
   "nbconvert_exporter": "python",
   "pygments_lexer": "ipython3",
   "version": "3.9.12"
  }
 },
 "nbformat": 4,
 "nbformat_minor": 5
}
