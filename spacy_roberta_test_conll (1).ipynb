{
  "nbformat": 4,
  "nbformat_minor": 0,
  "metadata": {
    "colab": {
      "provenance": []
    },
    "kernelspec": {
      "name": "python3",
      "display_name": "Python 3"
    },
    "language_info": {
      "name": "python"
    },
    "accelerator": "GPU",
    "gpuClass": "standard"
  },
  "cells": [
    {
      "cell_type": "code",
      "execution_count": null,
      "metadata": {
        "id": "xqN-itbgdu9P"
      },
      "outputs": [],
      "source": [
        "!pip install spacy[transformers]\n",
        "import spacy_transformers"
      ]
    },
    {
      "cell_type": "markdown",
      "source": [
        "# Data preprocessing : CoNLL to SpaCy"
      ],
      "metadata": {
        "id": "BomZzqHUZCZd"
      }
    },
    {
      "cell_type": "code",
      "source": [
        "import pandas as pd\n",
        "import re\n",
        "def load_data(path):\n",
        "    tokens = []\n",
        "    pos = []\n",
        "    tags = []\n",
        "    \n",
        "    with open(path, 'r', encoding = 'utf-8') as f:\n",
        "        lines = [line for line in f]\n",
        "    \n",
        "    for i in lines:\n",
        "        if i == '\\n':\n",
        "            tokens.append(' ')\n",
        "            pos.append(' ')\n",
        "            tags.append(' ')\n",
        "        else:\n",
        "            temp = re.split('\\t',i)\n",
        "            tokens.append(temp[0])\n",
        "            pos.append(temp[-2])\n",
        "            tags.append(re.sub('\\n','',temp[-1]))\n",
        "\n",
        "    test = pd.DataFrame({'tokens':tokens,\n",
        "                         'pos':pos,\n",
        "                        'ner_tags':tags})\n",
        "    \n",
        "    return test\n",
        "\n",
        "def token_to_sen(test):\n",
        "    sen = []\n",
        "    tag = []\n",
        "\n",
        "    temp_sen = []\n",
        "    temp_tag = []\n",
        "\n",
        "\n",
        "    for i in range(len(test)):\n",
        "\n",
        "        token = test['tokens'][i]\n",
        "        pos = test['pos'][i]\n",
        "        tags = test['ner_tags'][i]\n",
        "\n",
        "        if pos != '':\n",
        "          if token != '':\n",
        "            temp_sen.append(token)\n",
        "            temp_tag.append(tags)\n",
        "\n",
        "        else:\n",
        "          # if len(temp_sen) > 1:\n",
        "            sen.append(temp_sen)\n",
        "            tag.append(temp_tag)\n",
        "\n",
        "            temp_sen = []\n",
        "            temp_tag = []\n",
        "\n",
        "    tokenized = pd.DataFrame({'tokens':sen,\n",
        "                              'ner_tags':tag})\n",
        "    \n",
        "    return tokenized\n",
        "\n",
        "\n",
        "test = load_data('deu_testb.txt')\n",
        "tokenized = token_to_sen(test)\n",
        "tokenized"
      ],
      "metadata": {
        "id": "0adAi3jgWcvm"
      },
      "execution_count": null,
      "outputs": []
    },
    {
      "cell_type": "code",
      "source": [
        "def to_spacy_preprocess(tokenized):\n",
        "    spacy_format = []\n",
        "\n",
        "    for i in range(len(tokenized)):\n",
        "\n",
        "        #get position of all tokens in the sentences\n",
        "\n",
        "        position=[]\n",
        "        count = 0\n",
        "\n",
        "        for token in tokenized['tokens'][i]:\n",
        "\n",
        "            position.append((token,count,count+len(token)))\n",
        "            count = count+len(token)+1\n",
        "\n",
        "\n",
        "\n",
        "        entities = []\n",
        "        entity_candidate = []\n",
        "        tag_type = 'none'\n",
        "\n",
        "        for j in range(len(tokenized['ner_tags'][i])):\n",
        "            tag = tokenized['ner_tags'][i][j]\n",
        "\n",
        "\n",
        "            if len(entity_candidate) == 0:\n",
        "                if tag != 'O':\n",
        "                    tag_type = tag[2:]\n",
        "                    start = position[j][1]\n",
        "                    end = position[j][2]\n",
        "\n",
        "                    entity_candidate.append([start,end,tag_type])\n",
        "\n",
        "\n",
        "\n",
        "                    if j < len(tokenized['ner_tags'][i])-1:\n",
        "\n",
        "                        next_tag = tokenized['ner_tags'][i][j+1]\n",
        "\n",
        "                        if tag_type not in next_tag:\n",
        "                            entities.append((entity_candidate[-1][0],entity_candidate[-1][1],entity_candidate[-1][2]))\n",
        "                            entity_candidate = []\n",
        "                            tag_type = 'none'\n",
        "\n",
        "                    else:\n",
        "                        entities.append((entity_candidate[-1][0],entity_candidate[-1][1],entity_candidate[-1][2]))\n",
        "                        entity_candidate = []\n",
        "                        tag_type = 'none'                    \n",
        "\n",
        "            else:\n",
        "                \n",
        "                if tag_type in tag:\n",
        "                    entity_candidate[-1][1] = position[j][2]                \n",
        "\n",
        "                else:\n",
        "                    entities.append((entity_candidate[-1][0],entity_candidate[-1][1],entity_candidate[-1][2]))\n",
        "                    entity_candidate = []\n",
        "                    tag_type = 'none'\n",
        "\n",
        "\n",
        "        full_text = ' '.join(tokenized['tokens'][i])\n",
        "        spacy_format.append([full_text,{'entities':entities}])\n",
        "\n",
        "    return spacy_format\n",
        "\n",
        "docs = to_spacy_preprocess(tokenized)"
      ],
      "metadata": {
        "id": "9fzdoeYgYAhF"
      },
      "execution_count": null,
      "outputs": []
    },
    {
      "cell_type": "code",
      "source": [
        "docs[1:5]"
      ],
      "metadata": {
        "colab": {
          "base_uri": "https://localhost:8080/"
        },
        "id": "ZAPeanMuYftE",
        "outputId": "70a12b11-df18-430e-a35b-bc0b6a355863"
      },
      "execution_count": 43,
      "outputs": [
        {
          "output_type": "execute_result",
          "data": {
            "text/plain": [
              "[['Parlament ohne Wiederrede', {'entities': []}],\n",
              " ['RODGAU .', {'entities': [(0, 6, 'LOC')]}],\n",
              " ['Die Sitzung der Stadtverordnetenversammlung von Freitag , 21. August 1992 , im Rathaus zu Jügesheim wird in die Geschichte der 15 Jahre jungen Stadt Rodgau als die erste ohne jede Widerrede eingehen .',\n",
              "  {'entities': [(16, 43, 'ORG'), (79, 86, 'LOC'), (143, 155, 'LOC')]}],\n",
              " ['Die sechs Abgeordneten der Grünen , die seit Bildung einer Großen Koalition von Christ- und Sozialdemokraten die Opposition darstellen , hatten sich beim Vorsteher Rainer Bergert für ihr Fehlen entschuldigen lassen .',\n",
              "  {'entities': [(27, 33, 'ORG'),\n",
              "    (80, 87, 'ORG'),\n",
              "    (92, 108, 'ORG'),\n",
              "    (164, 178, 'PER')]}]]"
            ]
          },
          "metadata": {},
          "execution_count": 43
        }
      ]
    },
    {
      "cell_type": "markdown",
      "source": [
        "# Functions for evaluation\n",
        "ref: https://github.com/wjbmattingly/spacy_tutorials_3x/blob/main/02_02_formal_test.ipynb"
      ],
      "metadata": {
        "id": "AT4ivPOHaPpR"
      }
    },
    {
      "cell_type": "code",
      "source": [
        "import spacy\n",
        "from spacy.training import offsets_to_biluo_tags\n",
        "\n",
        "nlp = spacy.load(\"output/model-best\")"
      ],
      "metadata": {
        "id": "gWICuSKmt-mJ"
      },
      "execution_count": null,
      "outputs": []
    },
    {
      "cell_type": "code",
      "source": [
        "def get_cleaned_label(label: str):\n",
        "    if \"-\" in label:\n",
        "        return label.split(\"-\")[1]\n",
        "    else:\n",
        "        return label\n",
        "    \n",
        "def create_total_target_vector(docs):\n",
        "    target_vector = []\n",
        "    for doc in docs:\n",
        "        new = nlp.make_doc(doc[0])\n",
        "        entities = doc[1][\"entities\"]\n",
        "        bilou_entities = offsets_to_biluo_tags(new, entities)\n",
        "        final = []\n",
        "        for item in bilou_entities:\n",
        "            final.append(get_cleaned_label(item))\n",
        "        target_vector.extend(final)\n",
        "    return target_vector"
      ],
      "metadata": {
        "id": "Qek6hhALZXEa"
      },
      "execution_count": 71,
      "outputs": []
    },
    {
      "cell_type": "code",
      "source": [
        "def create_prediction_vector(text):\n",
        "    return [get_cleaned_label(prediction) for prediction in get_all_ner_predictions(text)]\n",
        "\n",
        "def create_total_prediction_vector(docs: list):\n",
        "    prediction_vector = []\n",
        "    for doc in docs:\n",
        "        prediction_vector.extend(create_prediction_vector(doc[0]))\n",
        "    return prediction_vector\n",
        "\n",
        "def get_all_ner_predictions(text):\n",
        "    doc = nlp(text)\n",
        "    entities = [(e.start_char, e.end_char, e.label_) for e in doc.ents]\n",
        "    bilou_entities = offsets_to_biluo_tags(doc, entities)\n",
        "    return bilou_entities"
      ],
      "metadata": {
        "id": "O9jh88_eZZEg"
      },
      "execution_count": 32,
      "outputs": []
    },
    {
      "cell_type": "code",
      "source": [
        "def get_model_labels():\n",
        "    return sorted(['O', 'ORG'])\n",
        "def get_dataset_labels():\n",
        "    return sorted(set(create_total_target_vector(docs)))"
      ],
      "metadata": {
        "id": "mXVEVyGuZZcV"
      },
      "execution_count": 51,
      "outputs": []
    },
    {
      "cell_type": "code",
      "source": [
        "def get_dataset_labels():\n",
        "    return sorted(set(create_total_target_vector(docs)))"
      ],
      "metadata": {
        "id": "KmOyRHbhc-ZP"
      },
      "execution_count": null,
      "outputs": []
    },
    {
      "cell_type": "code",
      "source": [
        "from sklearn.metrics import confusion_matrix, classification_report\n",
        "import numpy as np\n",
        "\n",
        "def generate_confusion_matrix(docs): \n",
        "    # classes = sorted(set(create_total_target_vector(docs)))\n",
        "\n",
        "    # print('-----------True Classes-------------')\n",
        "    y_true = create_total_target_vector(docs)\n",
        "    # print('\\n\\n\\n-----------Predicted Classes-------------')\n",
        "    y_pred = create_total_prediction_vector(docs)\n",
        "    # print (y_true)\n",
        "    # print (y_pred)\n",
        "    labels = ['O', 'PER', 'LOC', \"ORG\", \"MISC\"]\n",
        "    cm = confusion_matrix(y_true, y_pred, labels = labels)\n",
        "    df = pd.DataFrame(cm, index = labels, columns = labels)\n",
        "    print(classification_report(y_true, y_pred, target_names=labels))\n",
        "    return df\n",
        "\n",
        "# generate_confusion_matrix(docs[:50])   "
      ],
      "metadata": {
        "id": "Dar0nMhGZdkW"
      },
      "execution_count": 78,
      "outputs": []
    },
    {
      "cell_type": "markdown",
      "source": [
        "# Result"
      ],
      "metadata": {
        "id": "byrOYnZzt1Mi"
      }
    },
    {
      "cell_type": "code",
      "source": [
        "generate_confusion_matrix(docs)  "
      ],
      "metadata": {
        "colab": {
          "base_uri": "https://localhost:8080/",
          "height": 539
        },
        "id": "9ikxLYe4poIY",
        "outputId": "bfd7b0ca-a3bb-40a9-a43e-c28ace809a37"
      },
      "execution_count": 79,
      "outputs": [
        {
          "output_type": "stream",
          "name": "stderr",
          "text": [
            "/usr/local/lib/python3.8/dist-packages/sklearn/metrics/_classification.py:1318: UndefinedMetricWarning: Precision and F-score are ill-defined and being set to 0.0 in labels with no predicted samples. Use `zero_division` parameter to control this behavior.\n",
            "  _warn_prf(average, modifier, msg_start, len(result))\n",
            "/usr/local/lib/python3.8/dist-packages/sklearn/metrics/_classification.py:1318: UndefinedMetricWarning: Precision and F-score are ill-defined and being set to 0.0 in labels with no predicted samples. Use `zero_division` parameter to control this behavior.\n",
            "  _warn_prf(average, modifier, msg_start, len(result))\n"
          ]
        },
        {
          "output_type": "stream",
          "name": "stdout",
          "text": [
            "              precision    recall  f1-score   support\n",
            "\n",
            "           O       0.00      0.00      0.00      1275\n",
            "         PER       0.00      0.00      0.00       777\n",
            "         LOC       0.90      1.00      0.95     45907\n",
            "         ORG       0.54      0.02      0.04      1259\n",
            "        MISC       0.00      0.00      0.00      1784\n",
            "\n",
            "    accuracy                           0.90     51002\n",
            "   macro avg       0.29      0.20      0.20     51002\n",
            "weighted avg       0.82      0.90      0.85     51002\n",
            "\n"
          ]
        },
        {
          "output_type": "stream",
          "name": "stderr",
          "text": [
            "/usr/local/lib/python3.8/dist-packages/sklearn/metrics/_classification.py:1318: UndefinedMetricWarning: Precision and F-score are ill-defined and being set to 0.0 in labels with no predicted samples. Use `zero_division` parameter to control this behavior.\n",
            "  _warn_prf(average, modifier, msg_start, len(result))\n"
          ]
        },
        {
          "output_type": "execute_result",
          "data": {
            "text/plain": [
              "          O  PER  LOC  ORG  MISC\n",
              "O     45900    0    0    7     0\n",
              "PER    1784    0    0    0     0\n",
              "LOC    1259    0    0   16     0\n",
              "ORG    1230    0    0   29     0\n",
              "MISC    775    0    0    2     0"
            ],
            "text/html": [
              "\n",
              "  <div id=\"df-7101d469-a6ff-44c9-a86a-6403e1ad9750\">\n",
              "    <div class=\"colab-df-container\">\n",
              "      <div>\n",
              "<style scoped>\n",
              "    .dataframe tbody tr th:only-of-type {\n",
              "        vertical-align: middle;\n",
              "    }\n",
              "\n",
              "    .dataframe tbody tr th {\n",
              "        vertical-align: top;\n",
              "    }\n",
              "\n",
              "    .dataframe thead th {\n",
              "        text-align: right;\n",
              "    }\n",
              "</style>\n",
              "<table border=\"1\" class=\"dataframe\">\n",
              "  <thead>\n",
              "    <tr style=\"text-align: right;\">\n",
              "      <th></th>\n",
              "      <th>O</th>\n",
              "      <th>PER</th>\n",
              "      <th>LOC</th>\n",
              "      <th>ORG</th>\n",
              "      <th>MISC</th>\n",
              "    </tr>\n",
              "  </thead>\n",
              "  <tbody>\n",
              "    <tr>\n",
              "      <th>O</th>\n",
              "      <td>45900</td>\n",
              "      <td>0</td>\n",
              "      <td>0</td>\n",
              "      <td>7</td>\n",
              "      <td>0</td>\n",
              "    </tr>\n",
              "    <tr>\n",
              "      <th>PER</th>\n",
              "      <td>1784</td>\n",
              "      <td>0</td>\n",
              "      <td>0</td>\n",
              "      <td>0</td>\n",
              "      <td>0</td>\n",
              "    </tr>\n",
              "    <tr>\n",
              "      <th>LOC</th>\n",
              "      <td>1259</td>\n",
              "      <td>0</td>\n",
              "      <td>0</td>\n",
              "      <td>16</td>\n",
              "      <td>0</td>\n",
              "    </tr>\n",
              "    <tr>\n",
              "      <th>ORG</th>\n",
              "      <td>1230</td>\n",
              "      <td>0</td>\n",
              "      <td>0</td>\n",
              "      <td>29</td>\n",
              "      <td>0</td>\n",
              "    </tr>\n",
              "    <tr>\n",
              "      <th>MISC</th>\n",
              "      <td>775</td>\n",
              "      <td>0</td>\n",
              "      <td>0</td>\n",
              "      <td>2</td>\n",
              "      <td>0</td>\n",
              "    </tr>\n",
              "  </tbody>\n",
              "</table>\n",
              "</div>\n",
              "      <button class=\"colab-df-convert\" onclick=\"convertToInteractive('df-7101d469-a6ff-44c9-a86a-6403e1ad9750')\"\n",
              "              title=\"Convert this dataframe to an interactive table.\"\n",
              "              style=\"display:none;\">\n",
              "        \n",
              "  <svg xmlns=\"http://www.w3.org/2000/svg\" height=\"24px\"viewBox=\"0 0 24 24\"\n",
              "       width=\"24px\">\n",
              "    <path d=\"M0 0h24v24H0V0z\" fill=\"none\"/>\n",
              "    <path d=\"M18.56 5.44l.94 2.06.94-2.06 2.06-.94-2.06-.94-.94-2.06-.94 2.06-2.06.94zm-11 1L8.5 8.5l.94-2.06 2.06-.94-2.06-.94L8.5 2.5l-.94 2.06-2.06.94zm10 10l.94 2.06.94-2.06 2.06-.94-2.06-.94-.94-2.06-.94 2.06-2.06.94z\"/><path d=\"M17.41 7.96l-1.37-1.37c-.4-.4-.92-.59-1.43-.59-.52 0-1.04.2-1.43.59L10.3 9.45l-7.72 7.72c-.78.78-.78 2.05 0 2.83L4 21.41c.39.39.9.59 1.41.59.51 0 1.02-.2 1.41-.59l7.78-7.78 2.81-2.81c.8-.78.8-2.07 0-2.86zM5.41 20L4 18.59l7.72-7.72 1.47 1.35L5.41 20z\"/>\n",
              "  </svg>\n",
              "      </button>\n",
              "      \n",
              "  <style>\n",
              "    .colab-df-container {\n",
              "      display:flex;\n",
              "      flex-wrap:wrap;\n",
              "      gap: 12px;\n",
              "    }\n",
              "\n",
              "    .colab-df-convert {\n",
              "      background-color: #E8F0FE;\n",
              "      border: none;\n",
              "      border-radius: 50%;\n",
              "      cursor: pointer;\n",
              "      display: none;\n",
              "      fill: #1967D2;\n",
              "      height: 32px;\n",
              "      padding: 0 0 0 0;\n",
              "      width: 32px;\n",
              "    }\n",
              "\n",
              "    .colab-df-convert:hover {\n",
              "      background-color: #E2EBFA;\n",
              "      box-shadow: 0px 1px 2px rgba(60, 64, 67, 0.3), 0px 1px 3px 1px rgba(60, 64, 67, 0.15);\n",
              "      fill: #174EA6;\n",
              "    }\n",
              "\n",
              "    [theme=dark] .colab-df-convert {\n",
              "      background-color: #3B4455;\n",
              "      fill: #D2E3FC;\n",
              "    }\n",
              "\n",
              "    [theme=dark] .colab-df-convert:hover {\n",
              "      background-color: #434B5C;\n",
              "      box-shadow: 0px 1px 3px 1px rgba(0, 0, 0, 0.15);\n",
              "      filter: drop-shadow(0px 1px 2px rgba(0, 0, 0, 0.3));\n",
              "      fill: #FFFFFF;\n",
              "    }\n",
              "  </style>\n",
              "\n",
              "      <script>\n",
              "        const buttonEl =\n",
              "          document.querySelector('#df-7101d469-a6ff-44c9-a86a-6403e1ad9750 button.colab-df-convert');\n",
              "        buttonEl.style.display =\n",
              "          google.colab.kernel.accessAllowed ? 'block' : 'none';\n",
              "\n",
              "        async function convertToInteractive(key) {\n",
              "          const element = document.querySelector('#df-7101d469-a6ff-44c9-a86a-6403e1ad9750');\n",
              "          const dataTable =\n",
              "            await google.colab.kernel.invokeFunction('convertToInteractive',\n",
              "                                                     [key], {});\n",
              "          if (!dataTable) return;\n",
              "\n",
              "          const docLinkHtml = 'Like what you see? Visit the ' +\n",
              "            '<a target=\"_blank\" href=https://colab.research.google.com/notebooks/data_table.ipynb>data table notebook</a>'\n",
              "            + ' to learn more about interactive tables.';\n",
              "          element.innerHTML = '';\n",
              "          dataTable['output_type'] = 'display_data';\n",
              "          await google.colab.output.renderOutput(dataTable, element);\n",
              "          const docLink = document.createElement('div');\n",
              "          docLink.innerHTML = docLinkHtml;\n",
              "          element.appendChild(docLink);\n",
              "        }\n",
              "      </script>\n",
              "    </div>\n",
              "  </div>\n",
              "  "
            ]
          },
          "metadata": {},
          "execution_count": 79
        }
      ]
    },
    {
      "cell_type": "code",
      "source": [
        "!python -m spacy evaluate /content/drive/MyDrive/output_roberta/model-last conll_testb_spacy.spacy --gpu-id 0"
      ],
      "metadata": {
        "colab": {
          "base_uri": "https://localhost:8080/"
        },
        "id": "EX_LDHVRHkc8",
        "outputId": "ee2dc8c5-9ef0-4062-9b76-f8ddfb1d151d"
      },
      "execution_count": 2,
      "outputs": [
        {
          "output_type": "stream",
          "name": "stdout",
          "text": [
            "\u001b[38;5;4mℹ Using GPU: 0\u001b[0m\n",
            "tcmalloc: large alloc 1134411776 bytes == 0x78ab0000 @  0x7f119332d1e7 0x4d3280 0x5de162 0x60fd9f 0x5a9e9b 0x46eb22 0x616b6b 0x4f7ada 0x49ca7c 0x55e858 0x5d7cf1 0x49ec69 0x5d7c18 0x49caa1 0x4fe993 0x49ced5 0x55e571 0x5d7cf1 0x49ec69 0x5d7c18 0x49caa1 0x4fe993 0x49ced5 0x55e858 0x5d7cf1 0x5d77c6 0x561051 0x55e858 0x5d7cf1 0x49caa1 0x55e858\n",
            "\u001b[1m\n",
            "================================== Results ==================================\u001b[0m\n",
            "\n",
            "TOK     100.00\n",
            "NER P   57.45 \n",
            "NER R   0.74  \n",
            "NER F   1.47  \n",
            "SPEED   2768  \n",
            "\n",
            "\u001b[1m\n",
            "=============================== NER (per type) ===============================\u001b[0m\n",
            "\n",
            "           P      R      F\n",
            "LOC     0.00   0.00   0.00\n",
            "ORG    57.45   3.50   6.59\n",
            "PER     0.00   0.00   0.00\n",
            "MISC    0.00   0.00   0.00\n",
            "\n"
          ]
        }
      ]
    }
  ]
}