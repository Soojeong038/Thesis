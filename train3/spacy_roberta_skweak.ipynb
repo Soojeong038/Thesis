{
  "nbformat": 4,
  "nbformat_minor": 0,
  "metadata": {
    "colab": {
      "provenance": []
    },
    "kernelspec": {
      "name": "python3",
      "display_name": "Python 3"
    },
    "language_info": {
      "name": "python"
    },
    "accelerator": "GPU",
    "gpuClass": "standard"
  },
  "cells": [
    {
      "cell_type": "code",
      "execution_count": 1,
      "metadata": {
        "colab": {
          "base_uri": "https://localhost:8080/"
        },
        "id": "kbrtFKEICpn-",
        "outputId": "80184902-026e-40b6-ffa2-6dc34c563435"
      },
      "outputs": [
        {
          "output_type": "stream",
          "name": "stdout",
          "text": [
            "Looking in indexes: https://pypi.org/simple, https://us-python.pkg.dev/colab-wheels/public/simple/\n",
            "Requirement already satisfied: spacy[transformers] in /usr/local/lib/python3.7/dist-packages (3.4.2)\n",
            "Requirement already satisfied: murmurhash<1.1.0,>=0.28.0 in /usr/local/lib/python3.7/dist-packages (from spacy[transformers]) (1.0.9)\n",
            "Requirement already satisfied: tqdm<5.0.0,>=4.38.0 in /usr/local/lib/python3.7/dist-packages (from spacy[transformers]) (4.64.1)\n",
            "Requirement already satisfied: packaging>=20.0 in /usr/local/lib/python3.7/dist-packages (from spacy[transformers]) (21.3)\n",
            "Requirement already satisfied: cymem<2.1.0,>=2.0.2 in /usr/local/lib/python3.7/dist-packages (from spacy[transformers]) (2.0.7)\n",
            "Requirement already satisfied: srsly<3.0.0,>=2.4.3 in /usr/local/lib/python3.7/dist-packages (from spacy[transformers]) (2.4.5)\n",
            "Requirement already satisfied: spacy-legacy<3.1.0,>=3.0.10 in /usr/local/lib/python3.7/dist-packages (from spacy[transformers]) (3.0.10)\n",
            "Requirement already satisfied: catalogue<2.1.0,>=2.0.6 in /usr/local/lib/python3.7/dist-packages (from spacy[transformers]) (2.0.8)\n",
            "Requirement already satisfied: typing-extensions<4.2.0,>=3.7.4 in /usr/local/lib/python3.7/dist-packages (from spacy[transformers]) (4.1.1)\n",
            "Requirement already satisfied: setuptools in /usr/local/lib/python3.7/dist-packages (from spacy[transformers]) (57.4.0)\n",
            "Requirement already satisfied: pathy>=0.3.5 in /usr/local/lib/python3.7/dist-packages (from spacy[transformers]) (0.6.2)\n",
            "Requirement already satisfied: spacy-loggers<2.0.0,>=1.0.0 in /usr/local/lib/python3.7/dist-packages (from spacy[transformers]) (1.0.3)\n",
            "Requirement already satisfied: preshed<3.1.0,>=3.0.2 in /usr/local/lib/python3.7/dist-packages (from spacy[transformers]) (3.0.8)\n",
            "Requirement already satisfied: thinc<8.2.0,>=8.1.0 in /usr/local/lib/python3.7/dist-packages (from spacy[transformers]) (8.1.5)\n",
            "Requirement already satisfied: jinja2 in /usr/local/lib/python3.7/dist-packages (from spacy[transformers]) (2.11.3)\n",
            "Requirement already satisfied: numpy>=1.15.0 in /usr/local/lib/python3.7/dist-packages (from spacy[transformers]) (1.21.6)\n",
            "Requirement already satisfied: langcodes<4.0.0,>=3.2.0 in /usr/local/lib/python3.7/dist-packages (from spacy[transformers]) (3.3.0)\n",
            "Requirement already satisfied: pydantic!=1.8,!=1.8.1,<1.11.0,>=1.7.4 in /usr/local/lib/python3.7/dist-packages (from spacy[transformers]) (1.10.2)\n",
            "Requirement already satisfied: requests<3.0.0,>=2.13.0 in /usr/local/lib/python3.7/dist-packages (from spacy[transformers]) (2.23.0)\n",
            "Requirement already satisfied: wasabi<1.1.0,>=0.9.1 in /usr/local/lib/python3.7/dist-packages (from spacy[transformers]) (0.10.1)\n",
            "Requirement already satisfied: typer<0.5.0,>=0.3.0 in /usr/local/lib/python3.7/dist-packages (from spacy[transformers]) (0.4.2)\n",
            "Collecting spacy-transformers<1.2.0,>=1.1.2\n",
            "  Downloading spacy_transformers-1.1.8-py2.py3-none-any.whl (53 kB)\n",
            "\u001b[K     |████████████████████████████████| 53 kB 2.2 MB/s \n",
            "\u001b[?25hRequirement already satisfied: zipp>=0.5 in /usr/local/lib/python3.7/dist-packages (from catalogue<2.1.0,>=2.0.6->spacy[transformers]) (3.10.0)\n",
            "Requirement already satisfied: pyparsing!=3.0.5,>=2.0.2 in /usr/local/lib/python3.7/dist-packages (from packaging>=20.0->spacy[transformers]) (3.0.9)\n",
            "Requirement already satisfied: smart-open<6.0.0,>=5.2.1 in /usr/local/lib/python3.7/dist-packages (from pathy>=0.3.5->spacy[transformers]) (5.2.1)\n",
            "Requirement already satisfied: urllib3!=1.25.0,!=1.25.1,<1.26,>=1.21.1 in /usr/local/lib/python3.7/dist-packages (from requests<3.0.0,>=2.13.0->spacy[transformers]) (1.24.3)\n",
            "Requirement already satisfied: idna<3,>=2.5 in /usr/local/lib/python3.7/dist-packages (from requests<3.0.0,>=2.13.0->spacy[transformers]) (2.10)\n",
            "Requirement already satisfied: chardet<4,>=3.0.2 in /usr/local/lib/python3.7/dist-packages (from requests<3.0.0,>=2.13.0->spacy[transformers]) (3.0.4)\n",
            "Requirement already satisfied: certifi>=2017.4.17 in /usr/local/lib/python3.7/dist-packages (from requests<3.0.0,>=2.13.0->spacy[transformers]) (2022.9.24)\n",
            "Collecting spacy-alignments<1.0.0,>=0.7.2\n",
            "  Downloading spacy_alignments-0.8.6-cp37-cp37m-manylinux_2_17_x86_64.manylinux2014_x86_64.whl (1.1 MB)\n",
            "\u001b[K     |████████████████████████████████| 1.1 MB 29.5 MB/s \n",
            "\u001b[?25hRequirement already satisfied: torch>=1.6.0 in /usr/local/lib/python3.7/dist-packages (from spacy-transformers<1.2.0,>=1.1.2->spacy[transformers]) (1.12.1+cu113)\n",
            "Collecting transformers<4.22.0,>=3.4.0\n",
            "  Downloading transformers-4.21.3-py3-none-any.whl (4.7 MB)\n",
            "\u001b[K     |████████████████████████████████| 4.7 MB 50.8 MB/s \n",
            "\u001b[?25hRequirement already satisfied: blis<0.8.0,>=0.7.8 in /usr/local/lib/python3.7/dist-packages (from thinc<8.2.0,>=8.1.0->spacy[transformers]) (0.7.9)\n",
            "Requirement already satisfied: confection<1.0.0,>=0.0.1 in /usr/local/lib/python3.7/dist-packages (from thinc<8.2.0,>=8.1.0->spacy[transformers]) (0.0.3)\n",
            "Requirement already satisfied: pyyaml>=5.1 in /usr/local/lib/python3.7/dist-packages (from transformers<4.22.0,>=3.4.0->spacy-transformers<1.2.0,>=1.1.2->spacy[transformers]) (6.0)\n",
            "Collecting huggingface-hub<1.0,>=0.1.0\n",
            "  Downloading huggingface_hub-0.11.0-py3-none-any.whl (182 kB)\n",
            "\u001b[K     |████████████████████████████████| 182 kB 60.6 MB/s \n",
            "\u001b[?25hRequirement already satisfied: regex!=2019.12.17 in /usr/local/lib/python3.7/dist-packages (from transformers<4.22.0,>=3.4.0->spacy-transformers<1.2.0,>=1.1.2->spacy[transformers]) (2022.6.2)\n",
            "Requirement already satisfied: filelock in /usr/local/lib/python3.7/dist-packages (from transformers<4.22.0,>=3.4.0->spacy-transformers<1.2.0,>=1.1.2->spacy[transformers]) (3.8.0)\n",
            "Requirement already satisfied: importlib-metadata in /usr/local/lib/python3.7/dist-packages (from transformers<4.22.0,>=3.4.0->spacy-transformers<1.2.0,>=1.1.2->spacy[transformers]) (4.13.0)\n",
            "Collecting tokenizers!=0.11.3,<0.13,>=0.11.1\n",
            "  Downloading tokenizers-0.12.1-cp37-cp37m-manylinux_2_12_x86_64.manylinux2010_x86_64.whl (6.6 MB)\n",
            "\u001b[K     |████████████████████████████████| 6.6 MB 50.0 MB/s \n",
            "\u001b[?25hRequirement already satisfied: click<9.0.0,>=7.1.1 in /usr/local/lib/python3.7/dist-packages (from typer<0.5.0,>=0.3.0->spacy[transformers]) (7.1.2)\n",
            "Requirement already satisfied: MarkupSafe>=0.23 in /usr/local/lib/python3.7/dist-packages (from jinja2->spacy[transformers]) (2.0.1)\n",
            "Installing collected packages: tokenizers, huggingface-hub, transformers, spacy-alignments, spacy-transformers\n",
            "Successfully installed huggingface-hub-0.11.0 spacy-alignments-0.8.6 spacy-transformers-1.1.8 tokenizers-0.12.1 transformers-4.21.3\n"
          ]
        }
      ],
      "source": [
        "!pip install spacy[transformers]\n",
        "import spacy_transformers"
      ]
    },
    {
      "cell_type": "code",
      "source": [
        "#create config file: https://spacy.io/usage/training#config\n",
        "# !python -m spacy init fill-config base_config_roberta.cfg config_roberta.cfg"
      ],
      "metadata": {
        "id": "lsCqUEtdCt51"
      },
      "execution_count": 2,
      "outputs": []
    },
    {
      "cell_type": "markdown",
      "source": [
        "patience = 50"
      ],
      "metadata": {
        "id": "rH55mg4BEfJF"
      }
    },
    {
      "cell_type": "code",
      "source": [
        "!python -m spacy train config_roberta.cfg --gpu-id 0 --paths.train training_data_skweak.spacy --paths.dev dev_data_skweak.spacy --output ./output_skweak"
      ],
      "metadata": {
        "colab": {
          "base_uri": "https://localhost:8080/"
        },
        "id": "SaX8oaFjm2g8",
        "outputId": "290de2f7-b368-460a-c3dd-65d0925bb0dd"
      },
      "execution_count": 3,
      "outputs": [
        {
          "output_type": "stream",
          "name": "stdout",
          "text": [
            "\u001b[38;5;2m✔ Created output directory: output_skweak\u001b[0m\n",
            "\u001b[38;5;4mℹ Saving to output directory: output_skweak\u001b[0m\n",
            "\u001b[38;5;4mℹ Using GPU: 0\u001b[0m\n",
            "\u001b[1m\n",
            "=========================== Initializing pipeline ===========================\u001b[0m\n",
            "[2022-11-18 19:10:45,527] [INFO] Set up nlp object from config\n",
            "INFO:spacy:Set up nlp object from config\n",
            "[2022-11-18 19:10:45,538] [INFO] Pipeline: ['transformer', 'ner']\n",
            "INFO:spacy:Pipeline: ['transformer', 'ner']\n",
            "[2022-11-18 19:10:45,543] [INFO] Created vocabulary\n",
            "INFO:spacy:Created vocabulary\n",
            "[2022-11-18 19:10:45,544] [INFO] Finished initializing nlp object\n",
            "INFO:spacy:Finished initializing nlp object\n",
            "Downloading config.json: 100% 615/615 [00:00<00:00, 583kB/s]\n",
            "Downloading sentencepiece.bpe.model: 100% 4.83M/4.83M [00:00<00:00, 7.28MB/s]\n",
            "Downloading tokenizer.json: 100% 8.68M/8.68M [00:00<00:00, 10.4MB/s]\n",
            "Downloading pytorch_model.bin: 100% 1.04G/1.04G [00:31<00:00, 35.9MB/s]\n",
            "Some weights of the model checkpoint at xlm-roberta-base were not used when initializing XLMRobertaModel: ['lm_head.decoder.weight', 'lm_head.layer_norm.weight', 'lm_head.bias', 'lm_head.dense.weight', 'lm_head.dense.bias', 'lm_head.layer_norm.bias']\n",
            "- This IS expected if you are initializing XLMRobertaModel from the checkpoint of a model trained on another task or with another architecture (e.g. initializing a BertForSequenceClassification model from a BertForPreTraining model).\n",
            "- This IS NOT expected if you are initializing XLMRobertaModel from the checkpoint of a model that you expect to be exactly identical (initializing a BertForSequenceClassification model from a BertForSequenceClassification model).\n",
            "[2022-11-18 19:11:50,096] [INFO] Initialized pipeline components: ['transformer', 'ner']\n",
            "INFO:spacy:Initialized pipeline components: ['transformer', 'ner']\n",
            "\u001b[38;5;2m✔ Initialized pipeline\u001b[0m\n",
            "\u001b[1m\n",
            "============================= Training pipeline =============================\u001b[0m\n",
            "\u001b[38;5;4mℹ Pipeline: ['transformer', 'ner']\u001b[0m\n",
            "\u001b[38;5;4mℹ Initial learn rate: 0.0\u001b[0m\n",
            "\u001b[38;5;4mℹ Saving results to saveoutput.txt\u001b[0m\n",
            "E    #       LOSS TRANS...  LOSS NER  ENTS_F  ENTS_P  ENTS_R  SCORE \n",
            "---  ------  -------------  --------  ------  ------  ------  ------\n",
            "tcmalloc: large alloc 1200103424 bytes == 0x10aa0e000 @  0x7f15ea0cc615 0x58ead6 0x4f355e 0x58f8af 0x58fb26 0x7f1573eff07f 0x7f1573ecf974 0x7f153a41bef5 0x7f153a416441 0x7f153a41d549 0x7f1573ecff3b 0x7f1573b59f61 0x58f6e4 0x590691 0x510946 0x5b575e 0x58ff2e 0x50c4fc 0x5b4ee6 0x58ff2e 0x510325 0x58fd37 0x50ca37 0x5b4ee6 0x58ff2e 0x50c4fc 0x58fd37 0x50ca37 0x58fd37 0x50ca37 0x58fd37\n",
            "tcmalloc: large alloc 1500135424 bytes == 0x152290000 @  0x7f15ea0cc615 0x58ead6 0x4f355e 0x58f8af 0x58fb26 0x7f1573eff07f 0x7f1573ecf974 0x7f153a41bef5 0x7f153a416441 0x7f153a41d549 0x7f1573ecff3b 0x7f1573b59f61 0x58f6e4 0x590691 0x510946 0x5b575e 0x58ff2e 0x50c4fc 0x5b4ee6 0x58ff2e 0x510325 0x58fd37 0x50ca37 0x5b4ee6 0x58ff2e 0x50c4fc 0x58fd37 0x50ca37 0x58fd37 0x50ca37 0x58fd37\n",
            "tcmalloc: large alloc 2224521216 bytes == 0x7f1149688000 @  0x7f15ea0cc2a4 0x7f15de92a193 0x7f15de92bc5d 0x7f15de928435 0x7f15de928bde 0x4d222f 0x51041f 0x5b4ee6 0x58ff2e 0x50d482 0x58fd37 0x510325 0x58fd37 0x50ca37 0x5b4ee6 0x58ff2e 0x50c4fc 0x58fd37 0x50ca37 0x58fd37 0x50ca37 0x58fd37 0x50ca37 0x5b575e 0x58ff2e 0x50c4fc 0x58fd37 0x510325 0x5b575e 0x58ff2e 0x50d482\n",
            "tcmalloc: large alloc 2268823552 bytes == 0x14e3ea000 @  0x7f15ea0cc2a4 0x7f15de92a193 0x7f15de92a320 0x7f15de92a320 0x7f15de92bc5d 0x7f15de928435 0x7f15de928bde 0x4d222f 0x51041f 0x5b4ee6 0x58ff2e 0x50d482 0x58fd37 0x510325 0x58fd37 0x50ca37 0x58fd37 0x50ca37 0x5b575e 0x58ff2e 0x50c4fc 0x58fd37 0x510325 0x5b575e 0x58ff2e 0x50d482 0x5b4ee6 0x58ff2e 0x50c4fc 0x58fd37 0x510325\n",
            "  0       0         289.28    519.08    0.00    0.00    0.00    0.00\n",
            "tcmalloc: large alloc 2224521216 bytes == 0x7f1149688000 @  0x7f15ea0cc2a4 0x7f15de92a193 0x7f15de92bc5d 0x7f15de928435 0x7f15de928bde 0x4d222f 0x51041f 0x5b4ee6 0x58ff2e 0x50d482 0x58fd37 0x510325 0x58fd37 0x50ca37 0x5b4ee6 0x58ff2e 0x50c4fc 0x58fd37 0x50ca37 0x58fd37 0x50ca37 0x58fd37 0x50ca37 0x5b575e 0x58ff2e 0x50c4fc 0x58fd37 0x510325 0x5b575e 0x58ff2e 0x50d482\n",
            "tcmalloc: large alloc 2268823552 bytes == 0x7f1064c48000 @  0x7f15ea0cc2a4 0x7f15de92a193 0x7f15de92a320 0x7f15de92a320 0x7f15de92bc5d 0x7f15de928435 0x7f15de928bde 0x4d222f 0x51041f 0x5b4ee6 0x58ff2e 0x50d482 0x58fd37 0x510325 0x58fd37 0x50ca37 0x58fd37 0x50ca37 0x5b575e 0x58ff2e 0x50c4fc 0x58fd37 0x510325 0x5b575e 0x58ff2e 0x50d482 0x5b4ee6 0x58ff2e 0x50c4fc 0x58fd37 0x510325\n",
            "  0      50       17262.01  29223.36   45.11   96.81   29.41    0.45\n",
            "tcmalloc: large alloc 2224521216 bytes == 0x7f1064c48000 @  0x7f15ea0cc2a4 0x7f15de92a193 0x7f15de92bc5d 0x7f15de928435 0x7f15de928bde 0x4d222f 0x51041f 0x5b4ee6 0x58ff2e 0x50d482 0x58fd37 0x510325 0x58fd37 0x50ca37 0x5b4ee6 0x58ff2e 0x50c4fc 0x58fd37 0x50ca37 0x58fd37 0x50ca37 0x58fd37 0x50ca37 0x5b575e 0x58ff2e 0x50c4fc 0x58fd37 0x510325 0x5b575e 0x58ff2e 0x50d482\n",
            "  0     100        5987.27   1801.12   73.86   74.24   73.49    0.74\n",
            "  0     150         466.56    722.12   84.62   82.11   87.29    0.85\n",
            "  1     200         301.24    453.64   89.57   87.33   91.92    0.90\n",
            "  1     250         169.41    356.29   90.99   88.46   93.67    0.91\n",
            "  1     300         191.04    366.90   90.11   86.98   93.47    0.90\n",
            "\u001b[38;5;2m✔ Saved pipeline to output directory\u001b[0m\n",
            "output_skweak/model-last\n"
          ]
        }
      ]
    },
    {
      "cell_type": "code",
      "source": [
        "!python -m spacy evaluate output_skweak/model-best test_data_skweak.spacy --gpu-id 0"
      ],
      "metadata": {
        "colab": {
          "base_uri": "https://localhost:8080/"
        },
        "id": "B8xgZdVHD0qe",
        "outputId": "df11634b-f053-4e7d-a0f8-747b78ea2943"
      },
      "execution_count": 4,
      "outputs": [
        {
          "output_type": "stream",
          "name": "stdout",
          "text": [
            "\u001b[38;5;4mℹ Using GPU: 0\u001b[0m\n",
            "tcmalloc: large alloc 1134411776 bytes == 0x77c9e000 @  0x7fca23c351e7 0x4b2590 0x5ad01c 0x5dcfef 0x58f92b 0x590c33 0x5e48ac 0x4d20fa 0x51041f 0x5b575e 0x58ff2e 0x50c4fc 0x58fd37 0x510325 0x5b575e 0x58ff2e 0x50d482 0x5b4ee6 0x58ff2e 0x50c4fc 0x58fd37 0x510325 0x5b575e 0x58ff2e 0x50d482 0x5b575e 0x4bad0a 0x50e18c 0x5b575e 0x58ff2e 0x510325\n",
            "\u001b[1m\n",
            "================================== Results ==================================\u001b[0m\n",
            "\n",
            "TOK     100.00\n",
            "NER P   88.19 \n",
            "NER R   93.58 \n",
            "NER F   90.81 \n",
            "SPEED   4960  \n",
            "\n",
            "\u001b[1m\n",
            "=============================== NER (per type) ===============================\u001b[0m\n",
            "\n",
            "          P       R       F\n",
            "ORG   88.19   93.58   90.81\n",
            "\n"
          ]
        }
      ]
    },
    {
      "cell_type": "code",
      "source": [
        "!python -m spacy evaluate output_skweak/model-best test_data_shuffle.spacy --gpu-id 0"
      ],
      "metadata": {
        "colab": {
          "base_uri": "https://localhost:8080/"
        },
        "id": "xx6Bc7Z3JWgb",
        "outputId": "ad00038b-95d9-4495-ab34-8a97704ba7bb"
      },
      "execution_count": 5,
      "outputs": [
        {
          "output_type": "stream",
          "name": "stdout",
          "text": [
            "\u001b[38;5;4mℹ Using GPU: 0\u001b[0m\n",
            "tcmalloc: large alloc 1134411776 bytes == 0x7936e000 @  0x7f5c7c0b81e7 0x4b2590 0x5ad01c 0x5dcfef 0x58f92b 0x590c33 0x5e48ac 0x4d20fa 0x51041f 0x5b575e 0x58ff2e 0x50c4fc 0x58fd37 0x510325 0x5b575e 0x58ff2e 0x50d482 0x5b4ee6 0x58ff2e 0x50c4fc 0x58fd37 0x510325 0x5b575e 0x58ff2e 0x50d482 0x5b575e 0x4bad0a 0x50e18c 0x5b575e 0x58ff2e 0x510325\n",
            "\u001b[1m\n",
            "================================== Results ==================================\u001b[0m\n",
            "\n",
            "TOK     100.00\n",
            "NER P   92.00 \n",
            "NER R   77.40 \n",
            "NER F   84.07 \n",
            "SPEED   5113  \n",
            "\n",
            "\u001b[1m\n",
            "=============================== NER (per type) ===============================\u001b[0m\n",
            "\n",
            "          P       R       F\n",
            "ORG   92.00   77.40   84.07\n",
            "\n"
          ]
        }
      ]
    }
  ]
}