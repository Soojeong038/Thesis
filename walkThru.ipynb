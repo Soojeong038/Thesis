{
 "cells": [
  {
   "cell_type": "code",
   "execution_count": 2,
   "id": "d858531c",
   "metadata": {},
   "outputs": [],
   "source": [
    "import os\n",
    "import glob"
   ]
  },
  {
   "cell_type": "code",
   "execution_count": 3,
   "id": "55500dff",
   "metadata": {},
   "outputs": [],
   "source": [
    "#get leaf directories\n",
    "def leaf_folders(file_path):\n",
    "    return [dirpaths for dirpaths, dirnames, filenames in os.walk(file_path) if not dirnames]\n",
    "\n",
    "\n",
    "#get files\n",
    "def files(file_path,extension):\n",
    "    folder_list = leaf_folders(file_path)\n",
    "    files_list = {}\n",
    "    \n",
    "    for i in folder_list:\n",
    "#         time = os.path.basename(i)\n",
    "        os.chdir(i)\n",
    "        files = []\n",
    "        for file in glob.glob(\"*.{}\".format(extension)):\n",
    "            files.append(file)\n",
    "        \n",
    "        files_list.update({i:files})\n",
    "        \n",
    "    return files_list"
   ]
  },
  {
   "cell_type": "code",
   "execution_count": 5,
   "id": "c82ccb3c",
   "metadata": {
    "collapsed": true
   },
   "outputs": [
    {
     "name": "stdout",
     "output_type": "stream",
     "text": [
      "{'C:\\\\Users\\\\sooje\\\\daten\\\\2021\\\\2021_01': ['StRH-I-12-19.docx.rtf.pdf', 'StRH-I-17-18-MA2.docx.rtf.pdf', 'StRH-I-20-18-MA_51.docx.rtf.pdf', 'StRH-I-20-18-WBH.docx.rtf.pdf', 'StRH-I-4-19.docx.rtf.pdf', 'StRH-II-1-19.docx.rtf.pdf', 'StRH-II-20-19.docx.rtf.pdf', 'StRH-II-21-18.docx.rtf.pdf', 'StRH-II-3-19.docx.rtf.pdf', 'StRH-II-30-19.docx.rtf.pdf', 'StRH-II-35-19.docx.rtf.pdf', 'StRH-II-4-19.docx.rtf.pdf', 'StRH-II-45-18.docx.rtf.pdf', 'StRH-II-46-18.docx.rtf.pdf', 'StRH-II-46-19.docx.rtf.pdf', 'StRH-II-47-18-KAV.docx.rtf.pdf', 'StRH-II-53-18.docx.rtf.pdf', 'StRH-II-6-20.docx.rtf.pdf', 'StRH-II-7-20.docx.rtf.pdf', 'StRH-III-33-19.docx.rtf.pdf', 'StRH-III-5-20.docx.rtf.pdf', 'StRH-IV-40-19.docx.rtf.pdf', 'StRH-IV-43-19.docx.rtf.pdf', 'StRH-SFR-1-19-KAV.docx.rtf.pdf', 'StRH-SFR-3-19-MA2.docx.rtf.pdf', 'StRH-SFR-5-18-KAV.docx.rtf.pdf', 'StRH-V-10-18.docx.rtf.pdf', 'StRH-V-10-19.docx.rtf.pdf', 'StRH-V-11-19.docx.rtf.pdf', 'StRH-V-15-18.docx.rtf.pdf', 'StRH-V-4-19.docx.rtf.pdf', 'StRH-V-6-20.docx.rtf.pdf', 'StRH-VI-1-18-MA36.docx.rtf.pdf', 'StRH-VI-2-19.docx.rtf.pdf', 'StRH-VI-2-20.docx.rtf.pdf', 'StRH-VI-3-19.docx.rtf.pdf', 'StRH-VI-5-19.docx.rtf.pdf', 'StRH-VI-5-20.docx.rtf.pdf', 'StRH-VIII-1-18.docx.rtf.pdf', 'StRH-VIII-10-19.docx.rtf.pdf', 'StRH-VIII-4-20.docx.rtf.pdf'], 'C:\\\\Users\\\\sooje\\\\daten\\\\2021\\\\2021_02': ['StRH-I-1-19-MA_7.docx.rtf.pdf', 'StRH-I-1-19-Vienna_Film_Commission_GmbH.docx.rtf.pdf', 'StRH-I-1-20.docx.rtf.pdf', 'StRH-I-10-19.docx.rtf.pdf', 'StRH-I-11-19-MA_53.docx.rtf.pdf', 'StRH-I-13-18.docx.rtf.pdf', 'StRH-I-15-18.docx.rtf.pdf', 'StRH-I-16-18-AFA.docx.rtf.pdf', 'StRH-I-16-18-MA_7.docx.rtf.pdf', 'StRH-I-2-19.docx.rtf.pdf', 'StRH-I-2-20.docx.rtf.pdf', 'StRH-I-21-18-MA_7.docx.rtf.pdf', 'StRH-I-21-18-Volkstheater.docx.rtf.pdf', 'StRH-I-3-19-MA_7.docx.rtf.pdf', 'StRH-I-3-19-WUK.docx.rtf.pdf', 'StRH-I-4-19-MA_01.docx.rtf.pdf', 'StRH-I-6-19.docx.rtf.pdf', 'StRH-I-7-20.docx.rtf.pdf', 'StRH-I-9-19-Aktionsradius_Wien.docx.rtf.pdf', 'StRH-I-9-19-MA_7.docx.rtf.pdf', 'StRH-II-32-19.docx.rtf.pdf', 'StRH-II-8-20.docx.rtf.pdf', 'StRH-III-16-18.docx.rtf.pdf', 'StRH-III-19-19.docx.rtf.pdf', 'StRH-III-2-18-Stadt_Wien_Marketing_GmbH.docx.rtf.pdf', 'StRH-III-20-19.docx.rtf.pdf', 'StRH-III-21-19.docx.rtf.pdf', 'StRH-III-22-19.docx.rtf.pdf', 'StRH-III-23-19.docx.rtf.pdf', 'StRH-III-3-18-MA_28.docx.rtf.pdf', 'StRH-III-30-18.docx.rtf.pdf', 'StRH-III-34-19.docx.rtf.pdf', 'StRH-IV-1-19.docx.rtf.pdf', 'StRH-IV-1-20.docx.rtf.pdf', 'StRH-IV-14-20.docx.rtf.pdf', 'StRH-IV-2-19.docx.rtf.pdf', 'StRH-IV-2-20.docx.rtf.pdf', 'StRH-IV-22-19.docx.rtf.pdf', 'StRH-IV-23-19.docx.rtf.pdf', 'StRH-IV-24-19.docx.rtf.pdf', 'StRH-IV-29-20.docx.rtf.pdf', 'StRH-IV-3-19.docx.rtf.pdf', 'StRH-IV-3-20.docx.rtf.pdf', 'StRH-IV-4-19.docx.rtf.pdf', 'StRH-IV-41-19.docx.rtf.pdf', 'StRH-IV-42-19.docx.rtf.pdf', 'StRH-IV-44-19.docx.rtf.pdf', 'StRH-IV-48-18.docx.rtf.pdf', 'StRH-IV-5-20.docx.rtf.pdf', 'StRH-IV-57-18.docx.rtf.pdf', 'StRH-IV-58-18-MA_5.docx.rtf.pdf', 'StRH-IV-58-18-Wiener_Stadthalle_Betriebs-_und_Veranstaltungsgesellschaft_m.b.H..docx.rtf.pdf', 'StRH-IV-58-18-Wien_Holding_GmbH.docx.rtf.pdf', 'StRH-IV-59-18.docx.rtf.pdf', 'StRH-IV-6-20.docx.rtf.pdf', 'StRH-IV-60-18.docx.rtf.pdf', 'StRH-IV-66-17.docx.rtf.pdf', 'StRH-IV-7-20.docx.rtf.pdf', 'StRH-SFR-1-20.docx.rtf.pdf', 'StRH-SFR-2-19.docx.rtf.pdf', 'StRH-SFR-2-20.docx.rtf.pdf', 'StRH-SFR-3-18-MA_19.docx.rtf.pdf', 'StRH-SFR-3-18-MBA1-8.docx.rtf.pdf', 'StRH-SFR-3-19-MA_5.docx.rtf.pdf', 'StRH-SFR-3-19-MA_6.docx.rtf.pdf', 'StRH-SFR-4-20.docx.rtf.pdf', 'StRH-SFR-5-19.docx.rtf.pdf', 'StRH-SFR-6-18.docx.rtf.pdf', 'StRH-SFR-7-18.docx.rtf.pdf', 'StRH-SFR-7-19.docx.rtf.pdf', 'StRH-V-11-20.docx.rtf.pdf', 'StRH-V-12-18.docx.rtf.pdf', 'StRH-V-13-18.docx.rtf.pdf', 'StRH-V-2-19.docx.rtf.pdf', 'StRH-V-3-19.docx.rtf.pdf', 'StRH-V-6-19.docx.rtf.pdf', 'StRH-V-8-19.docx.rtf.pdf', 'StRH-V-9-18.docx.rtf.pdf', 'StRH-V-9-19.docx.rtf.pdf', 'StRH-VI-1-18-MA_46.docx.rtf.pdf', 'StRH-VI-1-20.docx.rtf.pdf', 'StRH-VI-10-19.docx.rtf.pdf', 'StRH-VI-12-19.docx.rtf.pdf', 'StRH-VI-5-18.docx.rtf.pdf', 'StRH-VI-6-18.docx.rtf.pdf', 'StRH-VI-7-18.docx.rtf.pdf', 'StRH-VI-7-19.docx.rtf.pdf', 'StRH-VI-8-18.docx.rtf.pdf', 'StRH-VI-9-19.docx.rtf.pdf', 'StRH-VIII-1-19.docx.rtf.pdf', 'StRH-VIII-1-20.docx.rtf.pdf', 'StRH-VIII-2-19.docx.rtf.pdf', 'StRH-VIII-2-20.docx.rtf.pdf', 'StRH-VIII-4-19.docx.rtf.pdf', 'StRH-VIII-5-20.docx.rtf.pdf', 'StRH-VIII-6-19-MA_45.docx.rtf.pdf', 'StRH-VIII-6-19-WGM.docx.rtf.pdf', 'StRH-VIII-6-20.docx.rtf.pdf', 'StRH-VIII-8-17.docx.rtf.pdf', 'StRH-VIII-8-19.docx.rtf.pdf'], 'C:\\\\Users\\\\sooje\\\\daten\\\\2021\\\\2021_03': ['StRH-I-11-19.docx.rtf.pdf', 'StRH-I-17-18.docx.rtf.pdf', 'StRH-I-3-19.docx.rtf.pdf', 'StRH-I-3-20.docx.rtf.pdf', 'StRH-I-7-19.docx.rtf.pdf', 'StRH-II-4-20.docx.rtf.pdf', 'StRH-II-47-18.docx.rtf.pdf', 'StRH-III-14-19.docx.rtf.pdf', 'StRH-III-15-20.docx.rtf.pdf', 'StRH-III-18-19.docx.rtf.pdf', 'StRH-III-2-18.docx.rtf.pdf', 'StRH-III-3-19.docx.rtf.pdf', 'StRH-III-32-19.docx.rtf.pdf', 'StRH-III-7-19.docx.rtf.pdf', 'StRH-SFR-1-19.docx.rtf.pdf', 'StRH-SFR-5-18.docx.rtf.pdf', 'StRH-SFR-6-19-MA_31.docx.rtf.pdf', 'StRH-SFR-6-19-MA_48.docx.rtf.pdf', 'StRH-SFR-6-19-MA_49.docx.rtf.pdf', 'StRH-SFR-8-19.docx.rtf.pdf', 'StRH-V-1-20.docx.rtf.pdf', 'StRH-V-10-18.docx.rtf.pdf', 'StRH-V-12-19.docx.rtf.pdf', 'StRH-V-12-20.docx.rtf.pdf', 'StRH-V-15-18.docx.rtf.pdf', 'StRH-V-3-20.docx.rtf.pdf', 'StRH-V-5-19.docx.rtf.pdf', 'StRH-V-7-18.docx.rtf.pdf', 'StRH-VI-10-20.docx.rtf.pdf', 'StRH-VI-11-19.docx.rtf.pdf', 'StRH-VI-3-20.docx.rtf.pdf', 'StRH-VII-Allg-4-21.docx.rtf.pdf', 'StRH-VIII-11-19.docx.rtf.pdf', 'StRH-VIII-5-19.docx.rtf.pdf', 'StRH-VIII-6-18.docx.rtf.pdf', 'StRH-VIII-7-20.docx.rtf.pdf'], 'C:\\\\Users\\\\sooje\\\\daten\\\\2021\\\\2021_04': ['StRH-I-1-20-Drachengasse.docx.rtf.pdf', 'StRH-I-1-20-MA_7.docx.rtf.pdf', 'StRH-I-11-20.docx.rtf.pdf', 'StRH-I-13-20.docx.rtf.pdf', 'StRH-I-14-19-MA_51.docx.rtf.pdf', 'StRH-I-14-19-Verein_Club_Basketball_International.docx.rtf.pdf', 'StRH-I-16-20.docx.rtf.pdf', 'StRH-I-17-19.docx.rtf.pdf', 'StRH-I-2-20.docx.rtf.pdf', 'StRH-I-9-20.docx.rtf.pdf', 'StRH-II-3-20.docx.rtf.pdf', 'StRH-II-30-19.docx.rtf.pdf', 'StRH-II-37-20.docx.rtf.pdf', 'StRH-II-39-20.docx.rtf.pdf', 'StRH-II-46-19.docx.rtf.pdf', 'StRH-II-5-19.docx.rtf.pdf', 'StRH-II-52-18.docx.rtf.pdf', 'StRH-II-53-18.docx.rtf.pdf', 'StRH-II-6-19.docx.rtf.pdf', 'StRH-III-19-20.docx.rtf.pdf', 'StRH-III-21-20.docx.rtf.pdf', 'StRH-III-22-20.docx.rtf.pdf', 'StRH-III-34-19.docx.rtf.pdf', 'StRH-V-15-20.docx.rtf.pdf', 'StRH-V-4-20.docx.rtf.pdf', 'StRH-V-8-19.docx.rtf.pdf', 'StRH-V-8-20.docx.rtf.pdf', 'StRH-V-9-19-MA_7.docx.rtf.pdf', 'StRH-V-9-19-Theater_Josefstadt.docx.rtf.pdf', 'StRH-VI-1-21.docx.rtf.pdf', 'StRH-VI-11-20.docx.rtf.pdf', 'StRH-VI-13-20.docx.rtf.pdf', 'StRH-VI-14-20.docx.rtf.pdf', 'StRH-VI-6-19.docx.rtf.pdf', 'StRH-VI-8-19-MA_15.docx.rtf.pdf', 'StRH-VI-8-19-MA_40.docx.rtf.pdf', 'StRH-VIII-10-19.docx.rtf.pdf', 'StRH-VIII-5-20.docx.rtf.pdf', 'StRH-VIII-9-19.docx.rtf.pdf'], 'C:\\\\Users\\\\sooje\\\\daten\\\\2021\\\\2021_05': ['StRH-I-10-19.docx.rtf.pdf', 'StRH-I-2-19-MA_27.docx.rtf.pdf', 'StRH-I-2-19-MA_34.docx.rtf.pdf', 'StRH-I-2-19-MA_5.docx.rtf.pdf', 'StRH-I-2-19-MA_57.docx.rtf.pdf', 'StRH-I-8-20.docx.rtf.pdf', 'StRH-II-32-19.docx.rtf.pdf', 'StRH-III-15-20.docx.rtf.pdf', 'StRH-IV-1-20-WIP.docx.rtf.pdf', 'StRH-IV-1-20-WSE.docx.rtf.pdf', 'StrH-IV-13-20.docx.rtf.pdf', 'StRH-IV-14-20.docx.rtf.pdf', 'StRH-IV-29-20-B&F.docx.rtf.pdf', 'StRH-IV-29-20-BFW.docx.rtf.pdf', 'StRH-IV-3-20-Schloß_Laxenburg.docx.rtf.pdf', 'StRH-IV-3-20-Wien_Holding.docx.rtf.pdf', 'StRH-IV-3-21.docx.rtf.pdf', 'StRH-IV-30-20.docx.rtf.pdf', 'StRH-IV-38-20.docx.rtf.pdf', 'StRH-IV-39-20.docx.rtf.pdf', 'StRH-IV-41-20.docx.rtf.pdf', 'StRH-IV-42-19-Wiener_Linien.docx.rtf.pdf', 'StRH-IV-42-19-WL_Direktionsgebäude.docx.rtf.pdf', 'StRH-IV-44-19-Tennis_500.docx.rtf.pdf', 'StRH-IV-5-20.docx.rtf.pdf', 'StRH-IV-5-21.docx.rtf.pdf', 'StRH-IV-6-20.docx.rtf.pdf', 'StRH-IV-60-18.docx.rtf.pdf', 'StRH-IV-66-17-Wirtschaftsagentur.docx.rtf.pdf', 'StRH-IV-7-20-Wien_Holding.docx.rtf.pdf', 'StRH-IV-7-20-WSTW.docx.rtf.pdf', 'StRH-SFR-1-20-MA_5-Hanke.docx.rtf.pdf', 'StRH-SFR-1-20-MA_6-Hanke.docx.rtf.pdf', 'StRH-SFR-2-20.docx.rtf.pdf', 'StRH-SFR-3-20.docx.rtf.pdf', 'StRH-SFR-5-20.docx.rtf.pdf', 'StRH-V-1-20.docx.rtf.pdf', 'StRH-V-10-19-WIP.docx.rtf.pdf', 'StRH-V-10-20.docx.rtf.pdf', 'StRH-V-11-20-WIP.docx.rtf.pdf', 'StRH-V-2-20.docx.rtf.pdf', 'StRH-V-6-19.docx.rtf.pdf', 'StRH-VI-12-20.docx.rtf.pdf', 'StRH-VI-2-21.docx.rtf.pdf', 'StRH-VIII-10-20.docx.rtf.pdf', 'StRH-VIII-2-20.docx.rtf.pdf', 'StRH-VIII-6-20-Wien_Marketing.docx.rtf.pdf', 'StRH-VIII-9-20.docx.rtf.pdf'], 'C:\\\\Users\\\\sooje\\\\daten\\\\2022\\\\2022_01': ['StRH-I-1-21.docx.rtf.pdf', 'StRH-I-10-20.docx.rtf.pdf', 'StRH-I-12-20.docx.rtf.pdf', 'StRH-I-17-20.docx.rtf.pdf', 'StRH-I-2-19-MA_10.docx.rtf.pdf', 'StRH-I-2-19-MA_11_Neu.docx.rtf.pdf', 'StRH-I-2-19-MA_13.docx.rtf.pdf', 'StRH-I-2-19-MA_17.docx.rtf.pdf', 'StRH-I-2-19-MA_22.docx.rtf.pdf', 'StRH-I-2-19-MA_49.docx.rtf.pdf', 'StRH-I-2-19-MA_51.docx.rtf.pdf', 'StRH-I-2-19-Wiener_Gesundheitsverbund.docx.rtf.pdf', 'StRH-II-1-19-MA-15.docx.rtf.pdf', 'StRH-II-1-19-MA-40.docx.rtf.pdf', 'StRH-II-1-19-MA_24.docx.rtf.pdf', 'StRH-II-1-20.docx.rtf.pdf', 'StRH-II-2-21.docx.rtf.pdf', 'StRH-II-20-19.docx.rtf.pdf', 'StRH-II-22-21.docx.rtf.pdf', 'StRH-II-31-19.docx.rtf.pdf', 'StRH-II-35-19.docx.rtf.pdf', 'StRH-II-38-20.docx.rtf.pdf', 'StRH-II-8-20-MA_62.docx.rtf.pdf', 'StRH-III-1-20.docx.rtf.pdf', 'StRH-III-25-20.docx.rtf.pdf', 'StRH-III-5-20.docx.rtf.pdf', 'StRH-IV-40-19.docx.rtf.pdf', 'StRH-IV-43-19.docx.rtf.pdf', 'StRH-IX-2-21.docx.rtf.pdf', 'StRH-SFR-1-20-MA_20.docx.rtf.pdf', 'StRH-SFR-1-20-MA_60.docx.rtf.pdf', 'StRH-V-10-19-MA_56.docx.rtf.pdf', 'StRH-V-11-19.docx.rtf.pdf', 'StRH-V-12-19-MA_42.docx.rtf.pdf', 'StRH-V-13-20.docx.rtf.pdf', 'StRH-V-4-21.docx.rtf.pdf', 'StRH-V-6-20.docx.rtf.pdf', 'StRH-VI-2-20-MA_70.docx.rtf.pdf', 'StRH-VI-4-21.docx.rtf.pdf', 'StRH-VI-5-20-MA_3.docx.rtf.pdf', 'StRH-VI-5-21.docx.rtf.pdf', 'StRH-VI-7-20.docx.rtf.pdf', 'StRH-VI-8-20.docx.rtf.pdf'], 'C:\\\\Users\\\\sooje\\\\daten\\\\2022\\\\2022_02': ['StRH-I-15-20.docx.rtf.pdf', 'StRH-I-2-19-MA_7.docx.rtf.pdf', 'StRH-I-2-19-MD-OS.docx.rtf.pdf', 'StRH-I-6-21.docx.rtf.pdf', 'StRH-I-7-20-MA_7.docx.rtf.pdf', 'StRH-I-7-20-Theater_Petersplatz_GmbH.docx.rtf.pdf', 'StRH-II-8-20-MA_5.docx.rtf.pdf', 'StRH-II-8-20-MA_7.docx.rtf.pdf', 'StRH-III-19-20.docx.rtf.pdf', 'StRH-IV-13-21.docx.rtf.pdf', 'StRH-IV-14-21.docx.rtf.pdf', 'StRH-IV-2-20-Tourismusverband.docx.rtf.pdf', 'StRH-IV-30-21.docx.rtf.pdf', 'StRH-IV-31-21.docx.rtf.pdf', 'StRH-IV-4-21.docx.rtf.pdf', 'StRH-IV-6-21.docx.rtf.pdf', 'StRH-IV-66-17-GGVier-Endfassung.docx.rtf.pdf', 'StRH-IV-9-21.docx.rtf.pdf', 'StRH-IX-1-21.docx.rtf.pdf', 'StRH-SFR-1-20-MA_01.docx.rtf.pdf', 'StRH-SFR-1-20-MA_29.docx.rtf.pdf', 'StRH-SFR-4-20-MA_6.docx.rtf.pdf', 'StRH-SFR-5-19-MA_6.docx.rtf.pdf', 'StRH-SFR-7-19-MA_23.docx.rtf.pdf', 'StRH-V-12-20-WIP.docx.rtf.pdf', 'StRH-V-7-20.docx.rtf.pdf', 'StRH-V-9-20.docx.rtf.pdf', 'StRH-VI-10-19.docx.rtf.pdf', 'StRH-VI-12-19.docx.rtf.pdf', 'StRH-VI-13-20.docx.rtf.pdf', 'StRH-VI-6-21.docx.rtf.pdf'], 'C:\\\\Users\\\\sooje\\\\daten\\\\2022\\\\2022_03': ['StRH-I-3-20-MA_57.docx.rtf.pdf', 'StRH-I-3-20-PEREGRINA.docx.rtf.pdf', 'StRH-I-4-21.docx.rtf.pdf', 'StRH-I-5-21.docx.rtf.pdf', 'StRH-I-7-19-MA34.docx.rtf.pdf', 'StRH-I-7-19-MA_13.docx.rtf.pdf', 'StRH-I-7-19-Wiener_Volkshochschulen.docx.rtf.pdf', 'StRH-I-7-21.docx.rtf.pdf', 'StRH-II-4-20.docx.rtf.pdf', 'StRH-II-8-20-MA69.docx.rtf.pdf', 'StRH-III-23-20.docx.rtf.pdf', 'StRH-III-24-20.docx.rtf.pdf', 'StRH-III-25-20.docx.rtf.pdf', 'StRH-III-3-19-MA_50-.docx.rtf.pdf', 'StRH-III-3-19-wohnfonds.docx.rtf.pdf', 'StRH-III-32-19.docx.rtf.pdf', 'StRH-III-4-21.docx.rtf.pdf', 'StRH-SFR-8-19.docx.rtf.pdf', 'StRH-V-1-21.docx.rtf.pdf', 'StRH-V-11-20-MA_56.docx.rtf.pdf', 'StRH-V-12-19-MA_56-Wiederkehr.docx.rtf.pdf', 'StRH-V-12-20-MA_56-Wiederkehr.docx.rtf.pdf', 'StRH-V-3-20-MA_22-Czernohorszky.docx.rtf.pdf', 'StRH-V-5-21.docx.rtf.pdf', 'StRH-VI-10-20-MA_58.docx.rtf.pdf', 'StRH-VI-10-20-MA_60.docx.rtf.pdf', 'StRH-VI-4-21-MA_11-Wiederkehr.docx.rtf.pdf', 'StRH-VI-7-21.docx.rtf.pdf', 'StRH-VI-8-21.docx.rtf.pdf', 'StRH-VII-Allg-4-22.docx.rtf.pdf', 'StRH-VIII-6-18.docx.rtf.pdf', 'StRH-VIII-7-20.docx.rtf.pdf']}\n"
     ]
    }
   ],
   "source": [
    "if __name__ == '__main__':\n",
    "    path = \"C:\\\\Users\\\\sooje\\\\daten\"\n",
    "    files_list = files(path,'pdf')\n",
    "    print(files_list)"
   ]
  }
 ],
 "metadata": {
  "kernelspec": {
   "display_name": "myenv",
   "language": "python",
   "name": "myenv"
  },
  "language_info": {
   "codemirror_mode": {
    "name": "ipython",
    "version": 3
   },
   "file_extension": ".py",
   "mimetype": "text/x-python",
   "name": "python",
   "nbconvert_exporter": "python",
   "pygments_lexer": "ipython3",
   "version": "3.9.12"
  }
 },
 "nbformat": 4,
 "nbformat_minor": 5
}
