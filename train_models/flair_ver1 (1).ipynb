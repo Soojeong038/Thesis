{
  "nbformat": 4,
  "nbformat_minor": 0,
  "metadata": {
    "colab": {
      "provenance": [],
      "collapsed_sections": []
    },
    "kernelspec": {
      "name": "python3",
      "display_name": "Python 3"
    },
    "language_info": {
      "name": "python"
    },
    "accelerator": "GPU",
    "widgets": {
      "application/vnd.jupyter.widget-state+json": {
        "9c7f9ec1f0414230820d398b0de5080d": {
          "model_module": "@jupyter-widgets/controls",
          "model_name": "HBoxModel",
          "model_module_version": "1.5.0",
          "state": {
            "_dom_classes": [],
            "_model_module": "@jupyter-widgets/controls",
            "_model_module_version": "1.5.0",
            "_model_name": "HBoxModel",
            "_view_count": null,
            "_view_module": "@jupyter-widgets/controls",
            "_view_module_version": "1.5.0",
            "_view_name": "HBoxView",
            "box_style": "",
            "children": [
              "IPY_MODEL_ded80b32bace4faf90b4557ff1b2adfa",
              "IPY_MODEL_8a50ecc9f2ed43ef9f2d9569739e2b2f",
              "IPY_MODEL_24cc57bab39c4c818b9fbda67b56e654"
            ],
            "layout": "IPY_MODEL_f9fd91e3f66041eb8b49c212364304e1"
          }
        },
        "ded80b32bace4faf90b4557ff1b2adfa": {
          "model_module": "@jupyter-widgets/controls",
          "model_name": "HTMLModel",
          "model_module_version": "1.5.0",
          "state": {
            "_dom_classes": [],
            "_model_module": "@jupyter-widgets/controls",
            "_model_module_version": "1.5.0",
            "_model_name": "HTMLModel",
            "_view_count": null,
            "_view_module": "@jupyter-widgets/controls",
            "_view_module_version": "1.5.0",
            "_view_name": "HTMLView",
            "description": "",
            "description_tooltip": null,
            "layout": "IPY_MODEL_b7b89b25007f43c8957ca115f1e94fa0",
            "placeholder": "​",
            "style": "IPY_MODEL_a3febb72ec2145b48b29adec4bfed8a6",
            "value": "Downloading: 100%"
          }
        },
        "8a50ecc9f2ed43ef9f2d9569739e2b2f": {
          "model_module": "@jupyter-widgets/controls",
          "model_name": "FloatProgressModel",
          "model_module_version": "1.5.0",
          "state": {
            "_dom_classes": [],
            "_model_module": "@jupyter-widgets/controls",
            "_model_module_version": "1.5.0",
            "_model_name": "FloatProgressModel",
            "_view_count": null,
            "_view_module": "@jupyter-widgets/controls",
            "_view_module_version": "1.5.0",
            "_view_name": "ProgressView",
            "bar_style": "success",
            "description": "",
            "description_tooltip": null,
            "layout": "IPY_MODEL_009a058778684657b46ec1c7e9e94e81",
            "max": 2239866697,
            "min": 0,
            "orientation": "horizontal",
            "style": "IPY_MODEL_711f9484b683434abe37c1d2e934d813",
            "value": 2239866697
          }
        },
        "24cc57bab39c4c818b9fbda67b56e654": {
          "model_module": "@jupyter-widgets/controls",
          "model_name": "HTMLModel",
          "model_module_version": "1.5.0",
          "state": {
            "_dom_classes": [],
            "_model_module": "@jupyter-widgets/controls",
            "_model_module_version": "1.5.0",
            "_model_name": "HTMLModel",
            "_view_count": null,
            "_view_module": "@jupyter-widgets/controls",
            "_view_module_version": "1.5.0",
            "_view_name": "HTMLView",
            "description": "",
            "description_tooltip": null,
            "layout": "IPY_MODEL_34b0d0213b304d3a9954da5b003ce8a5",
            "placeholder": "​",
            "style": "IPY_MODEL_7895cbdc8cce428e9ef243dbfd7f39af",
            "value": " 2.24G/2.24G [03:34&lt;00:00, 7.63MB/s]"
          }
        },
        "f9fd91e3f66041eb8b49c212364304e1": {
          "model_module": "@jupyter-widgets/base",
          "model_name": "LayoutModel",
          "model_module_version": "1.2.0",
          "state": {
            "_model_module": "@jupyter-widgets/base",
            "_model_module_version": "1.2.0",
            "_model_name": "LayoutModel",
            "_view_count": null,
            "_view_module": "@jupyter-widgets/base",
            "_view_module_version": "1.2.0",
            "_view_name": "LayoutView",
            "align_content": null,
            "align_items": null,
            "align_self": null,
            "border": null,
            "bottom": null,
            "display": null,
            "flex": null,
            "flex_flow": null,
            "grid_area": null,
            "grid_auto_columns": null,
            "grid_auto_flow": null,
            "grid_auto_rows": null,
            "grid_column": null,
            "grid_gap": null,
            "grid_row": null,
            "grid_template_areas": null,
            "grid_template_columns": null,
            "grid_template_rows": null,
            "height": null,
            "justify_content": null,
            "justify_items": null,
            "left": null,
            "margin": null,
            "max_height": null,
            "max_width": null,
            "min_height": null,
            "min_width": null,
            "object_fit": null,
            "object_position": null,
            "order": null,
            "overflow": null,
            "overflow_x": null,
            "overflow_y": null,
            "padding": null,
            "right": null,
            "top": null,
            "visibility": null,
            "width": null
          }
        },
        "b7b89b25007f43c8957ca115f1e94fa0": {
          "model_module": "@jupyter-widgets/base",
          "model_name": "LayoutModel",
          "model_module_version": "1.2.0",
          "state": {
            "_model_module": "@jupyter-widgets/base",
            "_model_module_version": "1.2.0",
            "_model_name": "LayoutModel",
            "_view_count": null,
            "_view_module": "@jupyter-widgets/base",
            "_view_module_version": "1.2.0",
            "_view_name": "LayoutView",
            "align_content": null,
            "align_items": null,
            "align_self": null,
            "border": null,
            "bottom": null,
            "display": null,
            "flex": null,
            "flex_flow": null,
            "grid_area": null,
            "grid_auto_columns": null,
            "grid_auto_flow": null,
            "grid_auto_rows": null,
            "grid_column": null,
            "grid_gap": null,
            "grid_row": null,
            "grid_template_areas": null,
            "grid_template_columns": null,
            "grid_template_rows": null,
            "height": null,
            "justify_content": null,
            "justify_items": null,
            "left": null,
            "margin": null,
            "max_height": null,
            "max_width": null,
            "min_height": null,
            "min_width": null,
            "object_fit": null,
            "object_position": null,
            "order": null,
            "overflow": null,
            "overflow_x": null,
            "overflow_y": null,
            "padding": null,
            "right": null,
            "top": null,
            "visibility": null,
            "width": null
          }
        },
        "a3febb72ec2145b48b29adec4bfed8a6": {
          "model_module": "@jupyter-widgets/controls",
          "model_name": "DescriptionStyleModel",
          "model_module_version": "1.5.0",
          "state": {
            "_model_module": "@jupyter-widgets/controls",
            "_model_module_version": "1.5.0",
            "_model_name": "DescriptionStyleModel",
            "_view_count": null,
            "_view_module": "@jupyter-widgets/base",
            "_view_module_version": "1.2.0",
            "_view_name": "StyleView",
            "description_width": ""
          }
        },
        "009a058778684657b46ec1c7e9e94e81": {
          "model_module": "@jupyter-widgets/base",
          "model_name": "LayoutModel",
          "model_module_version": "1.2.0",
          "state": {
            "_model_module": "@jupyter-widgets/base",
            "_model_module_version": "1.2.0",
            "_model_name": "LayoutModel",
            "_view_count": null,
            "_view_module": "@jupyter-widgets/base",
            "_view_module_version": "1.2.0",
            "_view_name": "LayoutView",
            "align_content": null,
            "align_items": null,
            "align_self": null,
            "border": null,
            "bottom": null,
            "display": null,
            "flex": null,
            "flex_flow": null,
            "grid_area": null,
            "grid_auto_columns": null,
            "grid_auto_flow": null,
            "grid_auto_rows": null,
            "grid_column": null,
            "grid_gap": null,
            "grid_row": null,
            "grid_template_areas": null,
            "grid_template_columns": null,
            "grid_template_rows": null,
            "height": null,
            "justify_content": null,
            "justify_items": null,
            "left": null,
            "margin": null,
            "max_height": null,
            "max_width": null,
            "min_height": null,
            "min_width": null,
            "object_fit": null,
            "object_position": null,
            "order": null,
            "overflow": null,
            "overflow_x": null,
            "overflow_y": null,
            "padding": null,
            "right": null,
            "top": null,
            "visibility": null,
            "width": null
          }
        },
        "711f9484b683434abe37c1d2e934d813": {
          "model_module": "@jupyter-widgets/controls",
          "model_name": "ProgressStyleModel",
          "model_module_version": "1.5.0",
          "state": {
            "_model_module": "@jupyter-widgets/controls",
            "_model_module_version": "1.5.0",
            "_model_name": "ProgressStyleModel",
            "_view_count": null,
            "_view_module": "@jupyter-widgets/base",
            "_view_module_version": "1.2.0",
            "_view_name": "StyleView",
            "bar_color": null,
            "description_width": ""
          }
        },
        "34b0d0213b304d3a9954da5b003ce8a5": {
          "model_module": "@jupyter-widgets/base",
          "model_name": "LayoutModel",
          "model_module_version": "1.2.0",
          "state": {
            "_model_module": "@jupyter-widgets/base",
            "_model_module_version": "1.2.0",
            "_model_name": "LayoutModel",
            "_view_count": null,
            "_view_module": "@jupyter-widgets/base",
            "_view_module_version": "1.2.0",
            "_view_name": "LayoutView",
            "align_content": null,
            "align_items": null,
            "align_self": null,
            "border": null,
            "bottom": null,
            "display": null,
            "flex": null,
            "flex_flow": null,
            "grid_area": null,
            "grid_auto_columns": null,
            "grid_auto_flow": null,
            "grid_auto_rows": null,
            "grid_column": null,
            "grid_gap": null,
            "grid_row": null,
            "grid_template_areas": null,
            "grid_template_columns": null,
            "grid_template_rows": null,
            "height": null,
            "justify_content": null,
            "justify_items": null,
            "left": null,
            "margin": null,
            "max_height": null,
            "max_width": null,
            "min_height": null,
            "min_width": null,
            "object_fit": null,
            "object_position": null,
            "order": null,
            "overflow": null,
            "overflow_x": null,
            "overflow_y": null,
            "padding": null,
            "right": null,
            "top": null,
            "visibility": null,
            "width": null
          }
        },
        "7895cbdc8cce428e9ef243dbfd7f39af": {
          "model_module": "@jupyter-widgets/controls",
          "model_name": "DescriptionStyleModel",
          "model_module_version": "1.5.0",
          "state": {
            "_model_module": "@jupyter-widgets/controls",
            "_model_module_version": "1.5.0",
            "_model_name": "DescriptionStyleModel",
            "_view_count": null,
            "_view_module": "@jupyter-widgets/base",
            "_view_module_version": "1.2.0",
            "_view_name": "StyleView",
            "description_width": ""
          }
        },
        "665c241c09d840d189fa2622a92c6a62": {
          "model_module": "@jupyter-widgets/controls",
          "model_name": "HBoxModel",
          "model_module_version": "1.5.0",
          "state": {
            "_dom_classes": [],
            "_model_module": "@jupyter-widgets/controls",
            "_model_module_version": "1.5.0",
            "_model_name": "HBoxModel",
            "_view_count": null,
            "_view_module": "@jupyter-widgets/controls",
            "_view_module_version": "1.5.0",
            "_view_name": "HBoxView",
            "box_style": "",
            "children": [
              "IPY_MODEL_c0472a35261f44b182f5a4984d770c38",
              "IPY_MODEL_6b1d66f44b20465b996bdfb96f18393e",
              "IPY_MODEL_69a742f5c4814b08a9f34c9b58f23f69"
            ],
            "layout": "IPY_MODEL_6f06c02478d7494faf41dee75d00be3a"
          }
        },
        "c0472a35261f44b182f5a4984d770c38": {
          "model_module": "@jupyter-widgets/controls",
          "model_name": "HTMLModel",
          "model_module_version": "1.5.0",
          "state": {
            "_dom_classes": [],
            "_model_module": "@jupyter-widgets/controls",
            "_model_module_version": "1.5.0",
            "_model_name": "HTMLModel",
            "_view_count": null,
            "_view_module": "@jupyter-widgets/controls",
            "_view_module_version": "1.5.0",
            "_view_name": "HTMLView",
            "description": "",
            "description_tooltip": null,
            "layout": "IPY_MODEL_a96db569eda94743a5ee15da753c73fa",
            "placeholder": "​",
            "style": "IPY_MODEL_6dcc23d8c66241279aff2a5f1a60f656",
            "value": "Downloading: 100%"
          }
        },
        "6b1d66f44b20465b996bdfb96f18393e": {
          "model_module": "@jupyter-widgets/controls",
          "model_name": "FloatProgressModel",
          "model_module_version": "1.5.0",
          "state": {
            "_dom_classes": [],
            "_model_module": "@jupyter-widgets/controls",
            "_model_module_version": "1.5.0",
            "_model_name": "FloatProgressModel",
            "_view_count": null,
            "_view_module": "@jupyter-widgets/controls",
            "_view_module_version": "1.5.0",
            "_view_name": "ProgressView",
            "bar_style": "success",
            "description": "",
            "description_tooltip": null,
            "layout": "IPY_MODEL_6e3a36ecc249469cab0a4fcef58016da",
            "max": 616,
            "min": 0,
            "orientation": "horizontal",
            "style": "IPY_MODEL_b031e6138332478cbcc2b29dc1d10ddb",
            "value": 616
          }
        },
        "69a742f5c4814b08a9f34c9b58f23f69": {
          "model_module": "@jupyter-widgets/controls",
          "model_name": "HTMLModel",
          "model_module_version": "1.5.0",
          "state": {
            "_dom_classes": [],
            "_model_module": "@jupyter-widgets/controls",
            "_model_module_version": "1.5.0",
            "_model_name": "HTMLModel",
            "_view_count": null,
            "_view_module": "@jupyter-widgets/controls",
            "_view_module_version": "1.5.0",
            "_view_name": "HTMLView",
            "description": "",
            "description_tooltip": null,
            "layout": "IPY_MODEL_bcfb15fe5f324879bb4876e3d2e9b55c",
            "placeholder": "​",
            "style": "IPY_MODEL_f3e9754e16a54ed5bae959c016d830c0",
            "value": " 616/616 [00:00&lt;00:00, 17.4kB/s]"
          }
        },
        "6f06c02478d7494faf41dee75d00be3a": {
          "model_module": "@jupyter-widgets/base",
          "model_name": "LayoutModel",
          "model_module_version": "1.2.0",
          "state": {
            "_model_module": "@jupyter-widgets/base",
            "_model_module_version": "1.2.0",
            "_model_name": "LayoutModel",
            "_view_count": null,
            "_view_module": "@jupyter-widgets/base",
            "_view_module_version": "1.2.0",
            "_view_name": "LayoutView",
            "align_content": null,
            "align_items": null,
            "align_self": null,
            "border": null,
            "bottom": null,
            "display": null,
            "flex": null,
            "flex_flow": null,
            "grid_area": null,
            "grid_auto_columns": null,
            "grid_auto_flow": null,
            "grid_auto_rows": null,
            "grid_column": null,
            "grid_gap": null,
            "grid_row": null,
            "grid_template_areas": null,
            "grid_template_columns": null,
            "grid_template_rows": null,
            "height": null,
            "justify_content": null,
            "justify_items": null,
            "left": null,
            "margin": null,
            "max_height": null,
            "max_width": null,
            "min_height": null,
            "min_width": null,
            "object_fit": null,
            "object_position": null,
            "order": null,
            "overflow": null,
            "overflow_x": null,
            "overflow_y": null,
            "padding": null,
            "right": null,
            "top": null,
            "visibility": null,
            "width": null
          }
        },
        "a96db569eda94743a5ee15da753c73fa": {
          "model_module": "@jupyter-widgets/base",
          "model_name": "LayoutModel",
          "model_module_version": "1.2.0",
          "state": {
            "_model_module": "@jupyter-widgets/base",
            "_model_module_version": "1.2.0",
            "_model_name": "LayoutModel",
            "_view_count": null,
            "_view_module": "@jupyter-widgets/base",
            "_view_module_version": "1.2.0",
            "_view_name": "LayoutView",
            "align_content": null,
            "align_items": null,
            "align_self": null,
            "border": null,
            "bottom": null,
            "display": null,
            "flex": null,
            "flex_flow": null,
            "grid_area": null,
            "grid_auto_columns": null,
            "grid_auto_flow": null,
            "grid_auto_rows": null,
            "grid_column": null,
            "grid_gap": null,
            "grid_row": null,
            "grid_template_areas": null,
            "grid_template_columns": null,
            "grid_template_rows": null,
            "height": null,
            "justify_content": null,
            "justify_items": null,
            "left": null,
            "margin": null,
            "max_height": null,
            "max_width": null,
            "min_height": null,
            "min_width": null,
            "object_fit": null,
            "object_position": null,
            "order": null,
            "overflow": null,
            "overflow_x": null,
            "overflow_y": null,
            "padding": null,
            "right": null,
            "top": null,
            "visibility": null,
            "width": null
          }
        },
        "6dcc23d8c66241279aff2a5f1a60f656": {
          "model_module": "@jupyter-widgets/controls",
          "model_name": "DescriptionStyleModel",
          "model_module_version": "1.5.0",
          "state": {
            "_model_module": "@jupyter-widgets/controls",
            "_model_module_version": "1.5.0",
            "_model_name": "DescriptionStyleModel",
            "_view_count": null,
            "_view_module": "@jupyter-widgets/base",
            "_view_module_version": "1.2.0",
            "_view_name": "StyleView",
            "description_width": ""
          }
        },
        "6e3a36ecc249469cab0a4fcef58016da": {
          "model_module": "@jupyter-widgets/base",
          "model_name": "LayoutModel",
          "model_module_version": "1.2.0",
          "state": {
            "_model_module": "@jupyter-widgets/base",
            "_model_module_version": "1.2.0",
            "_model_name": "LayoutModel",
            "_view_count": null,
            "_view_module": "@jupyter-widgets/base",
            "_view_module_version": "1.2.0",
            "_view_name": "LayoutView",
            "align_content": null,
            "align_items": null,
            "align_self": null,
            "border": null,
            "bottom": null,
            "display": null,
            "flex": null,
            "flex_flow": null,
            "grid_area": null,
            "grid_auto_columns": null,
            "grid_auto_flow": null,
            "grid_auto_rows": null,
            "grid_column": null,
            "grid_gap": null,
            "grid_row": null,
            "grid_template_areas": null,
            "grid_template_columns": null,
            "grid_template_rows": null,
            "height": null,
            "justify_content": null,
            "justify_items": null,
            "left": null,
            "margin": null,
            "max_height": null,
            "max_width": null,
            "min_height": null,
            "min_width": null,
            "object_fit": null,
            "object_position": null,
            "order": null,
            "overflow": null,
            "overflow_x": null,
            "overflow_y": null,
            "padding": null,
            "right": null,
            "top": null,
            "visibility": null,
            "width": null
          }
        },
        "b031e6138332478cbcc2b29dc1d10ddb": {
          "model_module": "@jupyter-widgets/controls",
          "model_name": "ProgressStyleModel",
          "model_module_version": "1.5.0",
          "state": {
            "_model_module": "@jupyter-widgets/controls",
            "_model_module_version": "1.5.0",
            "_model_name": "ProgressStyleModel",
            "_view_count": null,
            "_view_module": "@jupyter-widgets/base",
            "_view_module_version": "1.2.0",
            "_view_name": "StyleView",
            "bar_color": null,
            "description_width": ""
          }
        },
        "bcfb15fe5f324879bb4876e3d2e9b55c": {
          "model_module": "@jupyter-widgets/base",
          "model_name": "LayoutModel",
          "model_module_version": "1.2.0",
          "state": {
            "_model_module": "@jupyter-widgets/base",
            "_model_module_version": "1.2.0",
            "_model_name": "LayoutModel",
            "_view_count": null,
            "_view_module": "@jupyter-widgets/base",
            "_view_module_version": "1.2.0",
            "_view_name": "LayoutView",
            "align_content": null,
            "align_items": null,
            "align_self": null,
            "border": null,
            "bottom": null,
            "display": null,
            "flex": null,
            "flex_flow": null,
            "grid_area": null,
            "grid_auto_columns": null,
            "grid_auto_flow": null,
            "grid_auto_rows": null,
            "grid_column": null,
            "grid_gap": null,
            "grid_row": null,
            "grid_template_areas": null,
            "grid_template_columns": null,
            "grid_template_rows": null,
            "height": null,
            "justify_content": null,
            "justify_items": null,
            "left": null,
            "margin": null,
            "max_height": null,
            "max_width": null,
            "min_height": null,
            "min_width": null,
            "object_fit": null,
            "object_position": null,
            "order": null,
            "overflow": null,
            "overflow_x": null,
            "overflow_y": null,
            "padding": null,
            "right": null,
            "top": null,
            "visibility": null,
            "width": null
          }
        },
        "f3e9754e16a54ed5bae959c016d830c0": {
          "model_module": "@jupyter-widgets/controls",
          "model_name": "DescriptionStyleModel",
          "model_module_version": "1.5.0",
          "state": {
            "_model_module": "@jupyter-widgets/controls",
            "_model_module_version": "1.5.0",
            "_model_name": "DescriptionStyleModel",
            "_view_count": null,
            "_view_module": "@jupyter-widgets/base",
            "_view_module_version": "1.2.0",
            "_view_name": "StyleView",
            "description_width": ""
          }
        },
        "c8e8bc89ff1a44e2a075b76dc7f8dd19": {
          "model_module": "@jupyter-widgets/controls",
          "model_name": "HBoxModel",
          "model_module_version": "1.5.0",
          "state": {
            "_dom_classes": [],
            "_model_module": "@jupyter-widgets/controls",
            "_model_module_version": "1.5.0",
            "_model_name": "HBoxModel",
            "_view_count": null,
            "_view_module": "@jupyter-widgets/controls",
            "_view_module_version": "1.5.0",
            "_view_name": "HBoxView",
            "box_style": "",
            "children": [
              "IPY_MODEL_70951ed0257040468e56bb2aefb2f037",
              "IPY_MODEL_092158dd0a544ee08cc480c4ed4a2a2d",
              "IPY_MODEL_7ad640ee282f4d8b82413127aa958c4b"
            ],
            "layout": "IPY_MODEL_e503cda85ba04e6a94d2e484fac09075"
          }
        },
        "70951ed0257040468e56bb2aefb2f037": {
          "model_module": "@jupyter-widgets/controls",
          "model_name": "HTMLModel",
          "model_module_version": "1.5.0",
          "state": {
            "_dom_classes": [],
            "_model_module": "@jupyter-widgets/controls",
            "_model_module_version": "1.5.0",
            "_model_name": "HTMLModel",
            "_view_count": null,
            "_view_module": "@jupyter-widgets/controls",
            "_view_module_version": "1.5.0",
            "_view_name": "HTMLView",
            "description": "",
            "description_tooltip": null,
            "layout": "IPY_MODEL_f662d529fabc4e879c77e00d82f1c2c5",
            "placeholder": "​",
            "style": "IPY_MODEL_58ecf8fc563943bbab3ca9279f54e3b9",
            "value": "Downloading: 100%"
          }
        },
        "092158dd0a544ee08cc480c4ed4a2a2d": {
          "model_module": "@jupyter-widgets/controls",
          "model_name": "FloatProgressModel",
          "model_module_version": "1.5.0",
          "state": {
            "_dom_classes": [],
            "_model_module": "@jupyter-widgets/controls",
            "_model_module_version": "1.5.0",
            "_model_name": "FloatProgressModel",
            "_view_count": null,
            "_view_module": "@jupyter-widgets/controls",
            "_view_module_version": "1.5.0",
            "_view_name": "ProgressView",
            "bar_style": "success",
            "description": "",
            "description_tooltip": null,
            "layout": "IPY_MODEL_9e49d5bb7a7c4958ab6ad0e4e9fba221",
            "max": 5069051,
            "min": 0,
            "orientation": "horizontal",
            "style": "IPY_MODEL_34c390f6549d4635a95304693cd56856",
            "value": 5069051
          }
        },
        "7ad640ee282f4d8b82413127aa958c4b": {
          "model_module": "@jupyter-widgets/controls",
          "model_name": "HTMLModel",
          "model_module_version": "1.5.0",
          "state": {
            "_dom_classes": [],
            "_model_module": "@jupyter-widgets/controls",
            "_model_module_version": "1.5.0",
            "_model_name": "HTMLModel",
            "_view_count": null,
            "_view_module": "@jupyter-widgets/controls",
            "_view_module_version": "1.5.0",
            "_view_name": "HTMLView",
            "description": "",
            "description_tooltip": null,
            "layout": "IPY_MODEL_444a5d7453a04d9196b141ff0972e16a",
            "placeholder": "​",
            "style": "IPY_MODEL_560525984996413a926edd9135a7f4e2",
            "value": " 5.07M/5.07M [00:01&lt;00:00, 3.52MB/s]"
          }
        },
        "e503cda85ba04e6a94d2e484fac09075": {
          "model_module": "@jupyter-widgets/base",
          "model_name": "LayoutModel",
          "model_module_version": "1.2.0",
          "state": {
            "_model_module": "@jupyter-widgets/base",
            "_model_module_version": "1.2.0",
            "_model_name": "LayoutModel",
            "_view_count": null,
            "_view_module": "@jupyter-widgets/base",
            "_view_module_version": "1.2.0",
            "_view_name": "LayoutView",
            "align_content": null,
            "align_items": null,
            "align_self": null,
            "border": null,
            "bottom": null,
            "display": null,
            "flex": null,
            "flex_flow": null,
            "grid_area": null,
            "grid_auto_columns": null,
            "grid_auto_flow": null,
            "grid_auto_rows": null,
            "grid_column": null,
            "grid_gap": null,
            "grid_row": null,
            "grid_template_areas": null,
            "grid_template_columns": null,
            "grid_template_rows": null,
            "height": null,
            "justify_content": null,
            "justify_items": null,
            "left": null,
            "margin": null,
            "max_height": null,
            "max_width": null,
            "min_height": null,
            "min_width": null,
            "object_fit": null,
            "object_position": null,
            "order": null,
            "overflow": null,
            "overflow_x": null,
            "overflow_y": null,
            "padding": null,
            "right": null,
            "top": null,
            "visibility": null,
            "width": null
          }
        },
        "f662d529fabc4e879c77e00d82f1c2c5": {
          "model_module": "@jupyter-widgets/base",
          "model_name": "LayoutModel",
          "model_module_version": "1.2.0",
          "state": {
            "_model_module": "@jupyter-widgets/base",
            "_model_module_version": "1.2.0",
            "_model_name": "LayoutModel",
            "_view_count": null,
            "_view_module": "@jupyter-widgets/base",
            "_view_module_version": "1.2.0",
            "_view_name": "LayoutView",
            "align_content": null,
            "align_items": null,
            "align_self": null,
            "border": null,
            "bottom": null,
            "display": null,
            "flex": null,
            "flex_flow": null,
            "grid_area": null,
            "grid_auto_columns": null,
            "grid_auto_flow": null,
            "grid_auto_rows": null,
            "grid_column": null,
            "grid_gap": null,
            "grid_row": null,
            "grid_template_areas": null,
            "grid_template_columns": null,
            "grid_template_rows": null,
            "height": null,
            "justify_content": null,
            "justify_items": null,
            "left": null,
            "margin": null,
            "max_height": null,
            "max_width": null,
            "min_height": null,
            "min_width": null,
            "object_fit": null,
            "object_position": null,
            "order": null,
            "overflow": null,
            "overflow_x": null,
            "overflow_y": null,
            "padding": null,
            "right": null,
            "top": null,
            "visibility": null,
            "width": null
          }
        },
        "58ecf8fc563943bbab3ca9279f54e3b9": {
          "model_module": "@jupyter-widgets/controls",
          "model_name": "DescriptionStyleModel",
          "model_module_version": "1.5.0",
          "state": {
            "_model_module": "@jupyter-widgets/controls",
            "_model_module_version": "1.5.0",
            "_model_name": "DescriptionStyleModel",
            "_view_count": null,
            "_view_module": "@jupyter-widgets/base",
            "_view_module_version": "1.2.0",
            "_view_name": "StyleView",
            "description_width": ""
          }
        },
        "9e49d5bb7a7c4958ab6ad0e4e9fba221": {
          "model_module": "@jupyter-widgets/base",
          "model_name": "LayoutModel",
          "model_module_version": "1.2.0",
          "state": {
            "_model_module": "@jupyter-widgets/base",
            "_model_module_version": "1.2.0",
            "_model_name": "LayoutModel",
            "_view_count": null,
            "_view_module": "@jupyter-widgets/base",
            "_view_module_version": "1.2.0",
            "_view_name": "LayoutView",
            "align_content": null,
            "align_items": null,
            "align_self": null,
            "border": null,
            "bottom": null,
            "display": null,
            "flex": null,
            "flex_flow": null,
            "grid_area": null,
            "grid_auto_columns": null,
            "grid_auto_flow": null,
            "grid_auto_rows": null,
            "grid_column": null,
            "grid_gap": null,
            "grid_row": null,
            "grid_template_areas": null,
            "grid_template_columns": null,
            "grid_template_rows": null,
            "height": null,
            "justify_content": null,
            "justify_items": null,
            "left": null,
            "margin": null,
            "max_height": null,
            "max_width": null,
            "min_height": null,
            "min_width": null,
            "object_fit": null,
            "object_position": null,
            "order": null,
            "overflow": null,
            "overflow_x": null,
            "overflow_y": null,
            "padding": null,
            "right": null,
            "top": null,
            "visibility": null,
            "width": null
          }
        },
        "34c390f6549d4635a95304693cd56856": {
          "model_module": "@jupyter-widgets/controls",
          "model_name": "ProgressStyleModel",
          "model_module_version": "1.5.0",
          "state": {
            "_model_module": "@jupyter-widgets/controls",
            "_model_module_version": "1.5.0",
            "_model_name": "ProgressStyleModel",
            "_view_count": null,
            "_view_module": "@jupyter-widgets/base",
            "_view_module_version": "1.2.0",
            "_view_name": "StyleView",
            "bar_color": null,
            "description_width": ""
          }
        },
        "444a5d7453a04d9196b141ff0972e16a": {
          "model_module": "@jupyter-widgets/base",
          "model_name": "LayoutModel",
          "model_module_version": "1.2.0",
          "state": {
            "_model_module": "@jupyter-widgets/base",
            "_model_module_version": "1.2.0",
            "_model_name": "LayoutModel",
            "_view_count": null,
            "_view_module": "@jupyter-widgets/base",
            "_view_module_version": "1.2.0",
            "_view_name": "LayoutView",
            "align_content": null,
            "align_items": null,
            "align_self": null,
            "border": null,
            "bottom": null,
            "display": null,
            "flex": null,
            "flex_flow": null,
            "grid_area": null,
            "grid_auto_columns": null,
            "grid_auto_flow": null,
            "grid_auto_rows": null,
            "grid_column": null,
            "grid_gap": null,
            "grid_row": null,
            "grid_template_areas": null,
            "grid_template_columns": null,
            "grid_template_rows": null,
            "height": null,
            "justify_content": null,
            "justify_items": null,
            "left": null,
            "margin": null,
            "max_height": null,
            "max_width": null,
            "min_height": null,
            "min_width": null,
            "object_fit": null,
            "object_position": null,
            "order": null,
            "overflow": null,
            "overflow_x": null,
            "overflow_y": null,
            "padding": null,
            "right": null,
            "top": null,
            "visibility": null,
            "width": null
          }
        },
        "560525984996413a926edd9135a7f4e2": {
          "model_module": "@jupyter-widgets/controls",
          "model_name": "DescriptionStyleModel",
          "model_module_version": "1.5.0",
          "state": {
            "_model_module": "@jupyter-widgets/controls",
            "_model_module_version": "1.5.0",
            "_model_name": "DescriptionStyleModel",
            "_view_count": null,
            "_view_module": "@jupyter-widgets/base",
            "_view_module_version": "1.2.0",
            "_view_name": "StyleView",
            "description_width": ""
          }
        },
        "d4ef799edc7742219feb2d7d90d0f745": {
          "model_module": "@jupyter-widgets/controls",
          "model_name": "HBoxModel",
          "model_module_version": "1.5.0",
          "state": {
            "_dom_classes": [],
            "_model_module": "@jupyter-widgets/controls",
            "_model_module_version": "1.5.0",
            "_model_name": "HBoxModel",
            "_view_count": null,
            "_view_module": "@jupyter-widgets/controls",
            "_view_module_version": "1.5.0",
            "_view_name": "HBoxView",
            "box_style": "",
            "children": [
              "IPY_MODEL_39e6a42147ec4ea8b6703f10289a13da",
              "IPY_MODEL_1062f711a9b44dffbe62fd7ddbe4623f",
              "IPY_MODEL_86c0cfa5408e46a6aeaa4c6018719160"
            ],
            "layout": "IPY_MODEL_b7111b4ac7334a6caee73c4e812f0a31"
          }
        },
        "39e6a42147ec4ea8b6703f10289a13da": {
          "model_module": "@jupyter-widgets/controls",
          "model_name": "HTMLModel",
          "model_module_version": "1.5.0",
          "state": {
            "_dom_classes": [],
            "_model_module": "@jupyter-widgets/controls",
            "_model_module_version": "1.5.0",
            "_model_name": "HTMLModel",
            "_view_count": null,
            "_view_module": "@jupyter-widgets/controls",
            "_view_module_version": "1.5.0",
            "_view_name": "HTMLView",
            "description": "",
            "description_tooltip": null,
            "layout": "IPY_MODEL_af4b2802ba104031aef9ff95824ad1c6",
            "placeholder": "​",
            "style": "IPY_MODEL_27b5e81d6faa4f86855800b7b178f9f6",
            "value": "Downloading: 100%"
          }
        },
        "1062f711a9b44dffbe62fd7ddbe4623f": {
          "model_module": "@jupyter-widgets/controls",
          "model_name": "FloatProgressModel",
          "model_module_version": "1.5.0",
          "state": {
            "_dom_classes": [],
            "_model_module": "@jupyter-widgets/controls",
            "_model_module_version": "1.5.0",
            "_model_name": "FloatProgressModel",
            "_view_count": null,
            "_view_module": "@jupyter-widgets/controls",
            "_view_module_version": "1.5.0",
            "_view_name": "ProgressView",
            "bar_style": "success",
            "description": "",
            "description_tooltip": null,
            "layout": "IPY_MODEL_8cdf590d32054e3a917d323ae235e5f4",
            "max": 9096718,
            "min": 0,
            "orientation": "horizontal",
            "style": "IPY_MODEL_56d85b15e87c466680f11147026b5099",
            "value": 9096718
          }
        },
        "86c0cfa5408e46a6aeaa4c6018719160": {
          "model_module": "@jupyter-widgets/controls",
          "model_name": "HTMLModel",
          "model_module_version": "1.5.0",
          "state": {
            "_dom_classes": [],
            "_model_module": "@jupyter-widgets/controls",
            "_model_module_version": "1.5.0",
            "_model_name": "HTMLModel",
            "_view_count": null,
            "_view_module": "@jupyter-widgets/controls",
            "_view_module_version": "1.5.0",
            "_view_name": "HTMLView",
            "description": "",
            "description_tooltip": null,
            "layout": "IPY_MODEL_08b0b60f62a040489845260dd9f9d973",
            "placeholder": "​",
            "style": "IPY_MODEL_a4a8d284252743f8926b1e1a0da8624b",
            "value": " 9.10M/9.10M [00:02&lt;00:00, 6.92MB/s]"
          }
        },
        "b7111b4ac7334a6caee73c4e812f0a31": {
          "model_module": "@jupyter-widgets/base",
          "model_name": "LayoutModel",
          "model_module_version": "1.2.0",
          "state": {
            "_model_module": "@jupyter-widgets/base",
            "_model_module_version": "1.2.0",
            "_model_name": "LayoutModel",
            "_view_count": null,
            "_view_module": "@jupyter-widgets/base",
            "_view_module_version": "1.2.0",
            "_view_name": "LayoutView",
            "align_content": null,
            "align_items": null,
            "align_self": null,
            "border": null,
            "bottom": null,
            "display": null,
            "flex": null,
            "flex_flow": null,
            "grid_area": null,
            "grid_auto_columns": null,
            "grid_auto_flow": null,
            "grid_auto_rows": null,
            "grid_column": null,
            "grid_gap": null,
            "grid_row": null,
            "grid_template_areas": null,
            "grid_template_columns": null,
            "grid_template_rows": null,
            "height": null,
            "justify_content": null,
            "justify_items": null,
            "left": null,
            "margin": null,
            "max_height": null,
            "max_width": null,
            "min_height": null,
            "min_width": null,
            "object_fit": null,
            "object_position": null,
            "order": null,
            "overflow": null,
            "overflow_x": null,
            "overflow_y": null,
            "padding": null,
            "right": null,
            "top": null,
            "visibility": null,
            "width": null
          }
        },
        "af4b2802ba104031aef9ff95824ad1c6": {
          "model_module": "@jupyter-widgets/base",
          "model_name": "LayoutModel",
          "model_module_version": "1.2.0",
          "state": {
            "_model_module": "@jupyter-widgets/base",
            "_model_module_version": "1.2.0",
            "_model_name": "LayoutModel",
            "_view_count": null,
            "_view_module": "@jupyter-widgets/base",
            "_view_module_version": "1.2.0",
            "_view_name": "LayoutView",
            "align_content": null,
            "align_items": null,
            "align_self": null,
            "border": null,
            "bottom": null,
            "display": null,
            "flex": null,
            "flex_flow": null,
            "grid_area": null,
            "grid_auto_columns": null,
            "grid_auto_flow": null,
            "grid_auto_rows": null,
            "grid_column": null,
            "grid_gap": null,
            "grid_row": null,
            "grid_template_areas": null,
            "grid_template_columns": null,
            "grid_template_rows": null,
            "height": null,
            "justify_content": null,
            "justify_items": null,
            "left": null,
            "margin": null,
            "max_height": null,
            "max_width": null,
            "min_height": null,
            "min_width": null,
            "object_fit": null,
            "object_position": null,
            "order": null,
            "overflow": null,
            "overflow_x": null,
            "overflow_y": null,
            "padding": null,
            "right": null,
            "top": null,
            "visibility": null,
            "width": null
          }
        },
        "27b5e81d6faa4f86855800b7b178f9f6": {
          "model_module": "@jupyter-widgets/controls",
          "model_name": "DescriptionStyleModel",
          "model_module_version": "1.5.0",
          "state": {
            "_model_module": "@jupyter-widgets/controls",
            "_model_module_version": "1.5.0",
            "_model_name": "DescriptionStyleModel",
            "_view_count": null,
            "_view_module": "@jupyter-widgets/base",
            "_view_module_version": "1.2.0",
            "_view_name": "StyleView",
            "description_width": ""
          }
        },
        "8cdf590d32054e3a917d323ae235e5f4": {
          "model_module": "@jupyter-widgets/base",
          "model_name": "LayoutModel",
          "model_module_version": "1.2.0",
          "state": {
            "_model_module": "@jupyter-widgets/base",
            "_model_module_version": "1.2.0",
            "_model_name": "LayoutModel",
            "_view_count": null,
            "_view_module": "@jupyter-widgets/base",
            "_view_module_version": "1.2.0",
            "_view_name": "LayoutView",
            "align_content": null,
            "align_items": null,
            "align_self": null,
            "border": null,
            "bottom": null,
            "display": null,
            "flex": null,
            "flex_flow": null,
            "grid_area": null,
            "grid_auto_columns": null,
            "grid_auto_flow": null,
            "grid_auto_rows": null,
            "grid_column": null,
            "grid_gap": null,
            "grid_row": null,
            "grid_template_areas": null,
            "grid_template_columns": null,
            "grid_template_rows": null,
            "height": null,
            "justify_content": null,
            "justify_items": null,
            "left": null,
            "margin": null,
            "max_height": null,
            "max_width": null,
            "min_height": null,
            "min_width": null,
            "object_fit": null,
            "object_position": null,
            "order": null,
            "overflow": null,
            "overflow_x": null,
            "overflow_y": null,
            "padding": null,
            "right": null,
            "top": null,
            "visibility": null,
            "width": null
          }
        },
        "56d85b15e87c466680f11147026b5099": {
          "model_module": "@jupyter-widgets/controls",
          "model_name": "ProgressStyleModel",
          "model_module_version": "1.5.0",
          "state": {
            "_model_module": "@jupyter-widgets/controls",
            "_model_module_version": "1.5.0",
            "_model_name": "ProgressStyleModel",
            "_view_count": null,
            "_view_module": "@jupyter-widgets/base",
            "_view_module_version": "1.2.0",
            "_view_name": "StyleView",
            "bar_color": null,
            "description_width": ""
          }
        },
        "08b0b60f62a040489845260dd9f9d973": {
          "model_module": "@jupyter-widgets/base",
          "model_name": "LayoutModel",
          "model_module_version": "1.2.0",
          "state": {
            "_model_module": "@jupyter-widgets/base",
            "_model_module_version": "1.2.0",
            "_model_name": "LayoutModel",
            "_view_count": null,
            "_view_module": "@jupyter-widgets/base",
            "_view_module_version": "1.2.0",
            "_view_name": "LayoutView",
            "align_content": null,
            "align_items": null,
            "align_self": null,
            "border": null,
            "bottom": null,
            "display": null,
            "flex": null,
            "flex_flow": null,
            "grid_area": null,
            "grid_auto_columns": null,
            "grid_auto_flow": null,
            "grid_auto_rows": null,
            "grid_column": null,
            "grid_gap": null,
            "grid_row": null,
            "grid_template_areas": null,
            "grid_template_columns": null,
            "grid_template_rows": null,
            "height": null,
            "justify_content": null,
            "justify_items": null,
            "left": null,
            "margin": null,
            "max_height": null,
            "max_width": null,
            "min_height": null,
            "min_width": null,
            "object_fit": null,
            "object_position": null,
            "order": null,
            "overflow": null,
            "overflow_x": null,
            "overflow_y": null,
            "padding": null,
            "right": null,
            "top": null,
            "visibility": null,
            "width": null
          }
        },
        "a4a8d284252743f8926b1e1a0da8624b": {
          "model_module": "@jupyter-widgets/controls",
          "model_name": "DescriptionStyleModel",
          "model_module_version": "1.5.0",
          "state": {
            "_model_module": "@jupyter-widgets/controls",
            "_model_module_version": "1.5.0",
            "_model_name": "DescriptionStyleModel",
            "_view_count": null,
            "_view_module": "@jupyter-widgets/base",
            "_view_module_version": "1.2.0",
            "_view_name": "StyleView",
            "description_width": ""
          }
        }
      }
    }
  },
  "cells": [
    {
      "cell_type": "code",
      "execution_count": 1,
      "metadata": {
        "colab": {
          "base_uri": "https://localhost:8080/"
        },
        "id": "d_Uk7gqIHhbW",
        "outputId": "18f3adc0-1896-44dc-d63f-8897aa0c1924"
      },
      "outputs": [
        {
          "output_type": "execute_result",
          "data": {
            "text/plain": [
              "True"
            ]
          },
          "metadata": {},
          "execution_count": 1
        }
      ],
      "source": [
        "#use GPU\n",
        "import torch\n",
        "torch.cuda.is_available()"
      ]
    },
    {
      "cell_type": "markdown",
      "source": [
        "Set flair"
      ],
      "metadata": {
        "id": "7hfvKSItJku-"
      }
    },
    {
      "cell_type": "code",
      "source": [
        "import flair"
      ],
      "metadata": {
        "id": "bu53ajFjJKHL"
      },
      "execution_count": 2,
      "outputs": []
    },
    {
      "cell_type": "code",
      "source": [
        "# for test\n",
        "#https://github.com/flairNLP/flair/blob/master/resources/docs/TUTORIAL_2_TAGGING.md\n",
        "\n",
        "from flair.data import Sentence\n",
        "from flair.models import SequenceTagger\n",
        "\n",
        "# load the NER tagger\n",
        "tagger_de = SequenceTagger.load('de-ner-large')\n",
        "\n",
        "text_de = \"Erledigung des Prüfungsberichtes Der Stadtrechnungshof Wien unterzog die Gebarung der Vienna Film Commission GmbH in den Jahren 2015 bis 2017 einer Prüfung. Der diesbezügliche Bericht des Stadtrechnungshofes Wien wurde am 8. Oktober 2019 veröffentlicht und im Rahmen der Sitzung des Stadtrechnungshofausschusses vom 16. Oktober 2019, Ausschusszahl 63/19 mit Beschluss zur Kenntnis genommen.\"\n",
        "# make a sentence\n",
        "sentence_de = Sentence(text_de)\n",
        "\n",
        "# run NER over sentence\n",
        "tagger_de.predict(sentence_de)\n",
        "\n",
        "# print the sentence with all annotations\n",
        "print(sentence_de)\n",
        "\n",
        "print('The following NER tags are found:')\n",
        "\n",
        "# iterate over entities and print each\n",
        "for entity in sentence_de.get_spans('ner'):\n",
        "    print(entity)"
      ],
      "metadata": {
        "colab": {
          "base_uri": "https://localhost:8080/",
          "height": 321,
          "referenced_widgets": [
            "9c7f9ec1f0414230820d398b0de5080d",
            "ded80b32bace4faf90b4557ff1b2adfa",
            "8a50ecc9f2ed43ef9f2d9569739e2b2f",
            "24cc57bab39c4c818b9fbda67b56e654",
            "f9fd91e3f66041eb8b49c212364304e1",
            "b7b89b25007f43c8957ca115f1e94fa0",
            "a3febb72ec2145b48b29adec4bfed8a6",
            "009a058778684657b46ec1c7e9e94e81",
            "711f9484b683434abe37c1d2e934d813",
            "34b0d0213b304d3a9954da5b003ce8a5",
            "7895cbdc8cce428e9ef243dbfd7f39af",
            "665c241c09d840d189fa2622a92c6a62",
            "c0472a35261f44b182f5a4984d770c38",
            "6b1d66f44b20465b996bdfb96f18393e",
            "69a742f5c4814b08a9f34c9b58f23f69",
            "6f06c02478d7494faf41dee75d00be3a",
            "a96db569eda94743a5ee15da753c73fa",
            "6dcc23d8c66241279aff2a5f1a60f656",
            "6e3a36ecc249469cab0a4fcef58016da",
            "b031e6138332478cbcc2b29dc1d10ddb",
            "bcfb15fe5f324879bb4876e3d2e9b55c",
            "f3e9754e16a54ed5bae959c016d830c0",
            "c8e8bc89ff1a44e2a075b76dc7f8dd19",
            "70951ed0257040468e56bb2aefb2f037",
            "092158dd0a544ee08cc480c4ed4a2a2d",
            "7ad640ee282f4d8b82413127aa958c4b",
            "e503cda85ba04e6a94d2e484fac09075",
            "f662d529fabc4e879c77e00d82f1c2c5",
            "58ecf8fc563943bbab3ca9279f54e3b9",
            "9e49d5bb7a7c4958ab6ad0e4e9fba221",
            "34c390f6549d4635a95304693cd56856",
            "444a5d7453a04d9196b141ff0972e16a",
            "560525984996413a926edd9135a7f4e2",
            "d4ef799edc7742219feb2d7d90d0f745",
            "39e6a42147ec4ea8b6703f10289a13da",
            "1062f711a9b44dffbe62fd7ddbe4623f",
            "86c0cfa5408e46a6aeaa4c6018719160",
            "b7111b4ac7334a6caee73c4e812f0a31",
            "af4b2802ba104031aef9ff95824ad1c6",
            "27b5e81d6faa4f86855800b7b178f9f6",
            "8cdf590d32054e3a917d323ae235e5f4",
            "56d85b15e87c466680f11147026b5099",
            "08b0b60f62a040489845260dd9f9d973",
            "a4a8d284252743f8926b1e1a0da8624b"
          ]
        },
        "id": "a5k4umsaJVof",
        "outputId": "ada6afed-e00d-45e1-d5b7-23a50abf5469"
      },
      "execution_count": 3,
      "outputs": [
        {
          "output_type": "stream",
          "name": "stderr",
          "text": [
            "/root/.local/lib/python3.7/site-packages/huggingface_hub/file_download.py:591: FutureWarning: `cached_download` is the legacy way to download files from the HF hub, please consider upgrading to `hf_hub_download`\n",
            "  FutureWarning,\n"
          ]
        },
        {
          "output_type": "display_data",
          "data": {
            "text/plain": [
              "Downloading:   0%|          | 0.00/2.24G [00:00<?, ?B/s]"
            ],
            "application/vnd.jupyter.widget-view+json": {
              "version_major": 2,
              "version_minor": 0,
              "model_id": "9c7f9ec1f0414230820d398b0de5080d"
            }
          },
          "metadata": {}
        },
        {
          "output_type": "stream",
          "name": "stdout",
          "text": [
            "2022-10-11 13:08:46,020 loading file /root/.flair/models/ner-german-large/6b8de9edd73722050be2547acf64c037b2df833c6e8f0e88934de08385e26c1e.4b0797effcc6ebb1889d5d29784b97f0a099c1569b319d87d7c387e44e2bba48\n"
          ]
        },
        {
          "output_type": "display_data",
          "data": {
            "text/plain": [
              "Downloading:   0%|          | 0.00/616 [00:00<?, ?B/s]"
            ],
            "application/vnd.jupyter.widget-view+json": {
              "version_major": 2,
              "version_minor": 0,
              "model_id": "665c241c09d840d189fa2622a92c6a62"
            }
          },
          "metadata": {}
        },
        {
          "output_type": "display_data",
          "data": {
            "text/plain": [
              "Downloading:   0%|          | 0.00/5.07M [00:00<?, ?B/s]"
            ],
            "application/vnd.jupyter.widget-view+json": {
              "version_major": 2,
              "version_minor": 0,
              "model_id": "c8e8bc89ff1a44e2a075b76dc7f8dd19"
            }
          },
          "metadata": {}
        },
        {
          "output_type": "display_data",
          "data": {
            "text/plain": [
              "Downloading:   0%|          | 0.00/9.10M [00:00<?, ?B/s]"
            ],
            "application/vnd.jupyter.widget-view+json": {
              "version_major": 2,
              "version_minor": 0,
              "model_id": "d4ef799edc7742219feb2d7d90d0f745"
            }
          },
          "metadata": {}
        },
        {
          "output_type": "stream",
          "name": "stdout",
          "text": [
            "2022-10-11 13:09:20,783 SequenceTagger predicts: Dictionary with 20 tags: <unk>, O, B-PER, E-PER, S-LOC, B-MISC, I-MISC, E-MISC, S-PER, B-ORG, E-ORG, S-ORG, I-ORG, B-LOC, E-LOC, S-MISC, I-PER, I-LOC, <START>, <STOP>\n",
            "Sentence: \"Erledigung des Prüfungsberichtes Der Stadtrechnungshof Wien unterzog die Gebarung der Vienna Film Commission GmbH in den Jahren 2015 bis 2017 einer Prüfung . Der diesbezügliche Bericht des Stadtrechnungshofes Wien wurde am 8. Oktober 2019 veröffentlicht und im Rahmen der Sitzung des Stadtrechnungshofausschusses vom 16. Oktober 2019 , Ausschusszahl 63 / 19 mit Beschluss zur Kenntnis genommen .\" → [\"Wien\"/LOC, \"Vienna Film Commission GmbH\"/ORG, \"Wien\"/LOC]\n",
            "The following NER tags are found:\n",
            "Span[5:6]: \"Wien\" → LOC (1.0)\n",
            "Span[10:14]: \"Vienna Film Commission GmbH\" → ORG (1.0)\n",
            "Span[28:29]: \"Wien\" → LOC (1.0)\n"
          ]
        }
      ]
    },
    {
      "cell_type": "markdown",
      "source": [
        "Reading Your Own Sequence Labeling Dataset"
      ],
      "metadata": {
        "id": "-zngUf90JqVK"
      }
    },
    {
      "cell_type": "code",
      "source": [
        "# 1. get the corpus\n",
        "from flair.data import Corpus\n",
        "from flair.datasets import ColumnCorpus\n",
        "\n",
        "# define columns\n",
        "columns = {0: 'text', 1: 'pos', 2: 'ner'}\n",
        "\n",
        "# init a corpus using column format, data folder and the names of the train, dev and test files\n",
        "corpus: Corpus = ColumnCorpus(\"\", columns,\n",
        "                              train_file='train_flair.txt',\n",
        "                              test_file='test_flair.txt')\n",
        "#                               dev_file = 'dev_flair.txt')\n",
        "\n",
        "# 2. what label do we want to predict?\n",
        "label_type = 'ner'\n",
        "\n",
        "# 3. make the label dictionary from the corpus\n",
        "label_dict = corpus.make_label_dictionary(label_type=label_type)\n",
        "print(label_dict)"
      ],
      "metadata": {
        "colab": {
          "base_uri": "https://localhost:8080/"
        },
        "id": "fMuKLjbDKvNu",
        "outputId": "76f104d4-3f71-4747-f1ec-2ffeca793028"
      },
      "execution_count": 4,
      "outputs": [
        {
          "output_type": "stream",
          "name": "stdout",
          "text": [
            "2022-10-11 13:10:29,449 Reading data from .\n",
            "2022-10-11 13:10:29,461 Train: train_flair.txt\n",
            "2022-10-11 13:10:29,463 Dev: None\n",
            "2022-10-11 13:10:29,471 Test: test_flair.txt\n",
            "2022-10-11 13:10:34,854 Computing label dictionary. Progress:\n"
          ]
        },
        {
          "output_type": "stream",
          "name": "stderr",
          "text": [
            "2334it [00:00, 46239.73it/s]"
          ]
        },
        {
          "output_type": "stream",
          "name": "stdout",
          "text": [
            "2022-10-11 13:10:34,916 Dictionary created for label 'ner' with 2 values: ORG (seen 2066 times)\n",
            "Dictionary with 2 tags: <unk>, ORG\n"
          ]
        },
        {
          "output_type": "stream",
          "name": "stderr",
          "text": [
            "\n"
          ]
        }
      ]
    },
    {
      "cell_type": "code",
      "source": [
        "from flair.embeddings import WordEmbeddings, FlairEmbeddings, StackedEmbeddings\n",
        "from flair.models import SequenceTagger\n",
        "from flair.trainers import ModelTrainer\n",
        "\n",
        "# 4. initialize embedding stack with Flair and GloVe\n",
        "embedding_types = [\n",
        "    WordEmbeddings('glove'),\n",
        "    FlairEmbeddings('news-forward'),\n",
        "    FlairEmbeddings('news-backward'),\n",
        "]\n",
        "\n",
        "embeddings = StackedEmbeddings(embeddings=embedding_types)\n",
        "\n",
        "# 5. initialize sequence tagger\n",
        "tagger = SequenceTagger(hidden_size=256,\n",
        "                        embeddings=embeddings,\n",
        "                        tag_dictionary=label_dict,\n",
        "                        tag_type=label_type,\n",
        "                        use_crf=True)\n",
        "\n",
        "# 6. initialize trainer\n",
        "trainer = ModelTrainer(tagger, corpus)\n",
        "\n",
        "# 7. start training\n",
        "trainer.train('resources/taggers/sota-ner-flair',\n",
        "              learning_rate=0.1,\n",
        "              mini_batch_size=16,\n",
        "              max_epochs=10)"
      ],
      "metadata": {
        "colab": {
          "base_uri": "https://localhost:8080/"
        },
        "id": "Hw1BH-O_K0zA",
        "outputId": "c0d641d0-9083-427d-b03e-2dbc420ed36f"
      },
      "execution_count": 7,
      "outputs": [
        {
          "output_type": "stream",
          "name": "stdout",
          "text": [
            "2022-10-11 13:18:27,433 SequenceTagger predicts: Dictionary with 5 tags: O, S-ORG, B-ORG, E-ORG, I-ORG\n",
            "2022-10-11 13:18:27,694 ----------------------------------------------------------------------------------------------------\n",
            "2022-10-11 13:18:27,697 Model: \"SequenceTagger(\n",
            "  (embeddings): StackedEmbeddings(\n",
            "    (list_embedding_0): WordEmbeddings(\n",
            "      'glove'\n",
            "      (embedding): Embedding(400001, 100)\n",
            "    )\n",
            "    (list_embedding_1): FlairEmbeddings(\n",
            "      (lm): LanguageModel(\n",
            "        (drop): Dropout(p=0.05, inplace=False)\n",
            "        (encoder): Embedding(300, 100)\n",
            "        (rnn): LSTM(100, 2048)\n",
            "        (decoder): Linear(in_features=2048, out_features=300, bias=True)\n",
            "      )\n",
            "    )\n",
            "    (list_embedding_2): FlairEmbeddings(\n",
            "      (lm): LanguageModel(\n",
            "        (drop): Dropout(p=0.05, inplace=False)\n",
            "        (encoder): Embedding(300, 100)\n",
            "        (rnn): LSTM(100, 2048)\n",
            "        (decoder): Linear(in_features=2048, out_features=300, bias=True)\n",
            "      )\n",
            "    )\n",
            "  )\n",
            "  (word_dropout): WordDropout(p=0.05)\n",
            "  (locked_dropout): LockedDropout(p=0.5)\n",
            "  (embedding2nn): Linear(in_features=4196, out_features=4196, bias=True)\n",
            "  (rnn): LSTM(4196, 256, batch_first=True, bidirectional=True)\n",
            "  (linear): Linear(in_features=512, out_features=7, bias=True)\n",
            "  (loss_function): ViterbiLoss()\n",
            "  (crf): CRF()\n",
            ")\"\n",
            "2022-10-11 13:18:27,700 ----------------------------------------------------------------------------------------------------\n",
            "2022-10-11 13:18:27,703 Corpus: \"Corpus: 2334 train + 259 dev + 1112 test sentences\"\n",
            "2022-10-11 13:18:27,704 ----------------------------------------------------------------------------------------------------\n",
            "2022-10-11 13:18:27,706 Parameters:\n",
            "2022-10-11 13:18:27,711  - learning_rate: \"0.100000\"\n",
            "2022-10-11 13:18:27,714  - mini_batch_size: \"16\"\n",
            "2022-10-11 13:18:27,719  - patience: \"3\"\n",
            "2022-10-11 13:18:27,720  - anneal_factor: \"0.5\"\n",
            "2022-10-11 13:18:27,722  - max_epochs: \"10\"\n",
            "2022-10-11 13:18:27,727  - shuffle: \"True\"\n",
            "2022-10-11 13:18:27,729  - train_with_dev: \"False\"\n",
            "2022-10-11 13:18:27,731  - batch_growth_annealing: \"False\"\n",
            "2022-10-11 13:18:27,735 ----------------------------------------------------------------------------------------------------\n",
            "2022-10-11 13:18:27,738 Model training base path: \"resources/taggers/sota-ner-flair\"\n",
            "2022-10-11 13:18:27,740 ----------------------------------------------------------------------------------------------------\n",
            "2022-10-11 13:18:27,744 Device: cuda:0\n",
            "2022-10-11 13:18:27,747 ----------------------------------------------------------------------------------------------------\n",
            "2022-10-11 13:18:27,750 Embeddings storage mode: cpu\n",
            "2022-10-11 13:18:27,755 ----------------------------------------------------------------------------------------------------\n"
          ]
        },
        {
          "output_type": "stream",
          "name": "stderr",
          "text": [
            "/root/.local/lib/python3.7/site-packages/flair/trainers/trainer.py:65: UserWarning: There should be no best model saved at epoch 1 except there is a model from previous trainings in your training folder. All previous best models will be deleted.\n",
            "  \"There should be no best model saved at epoch 1 except there \"\n"
          ]
        },
        {
          "output_type": "stream",
          "name": "stdout",
          "text": [
            "2022-10-11 13:18:30,683 epoch 1 - iter 14/146 - loss 0.56249803 - samples/sec: 76.61 - lr: 0.100000\n",
            "2022-10-11 13:18:33,328 epoch 1 - iter 28/146 - loss 0.37171176 - samples/sec: 84.80 - lr: 0.100000\n",
            "2022-10-11 13:18:36,135 epoch 1 - iter 42/146 - loss 0.29607390 - samples/sec: 79.88 - lr: 0.100000\n",
            "2022-10-11 13:18:39,035 epoch 1 - iter 56/146 - loss 0.24566340 - samples/sec: 77.38 - lr: 0.100000\n",
            "2022-10-11 13:18:41,737 epoch 1 - iter 70/146 - loss 0.22201969 - samples/sec: 83.02 - lr: 0.100000\n",
            "2022-10-11 13:18:44,792 epoch 1 - iter 84/146 - loss 0.20042550 - samples/sec: 73.39 - lr: 0.100000\n",
            "2022-10-11 13:18:47,568 epoch 1 - iter 98/146 - loss 0.18506481 - samples/sec: 80.78 - lr: 0.100000\n",
            "2022-10-11 13:18:50,366 epoch 1 - iter 112/146 - loss 0.17451829 - samples/sec: 80.17 - lr: 0.100000\n",
            "2022-10-11 13:18:52,939 epoch 1 - iter 126/146 - loss 0.16286257 - samples/sec: 87.16 - lr: 0.100000\n",
            "2022-10-11 13:18:55,467 epoch 1 - iter 140/146 - loss 0.15489250 - samples/sec: 88.70 - lr: 0.100000\n",
            "2022-10-11 13:18:56,677 ----------------------------------------------------------------------------------------------------\n",
            "2022-10-11 13:18:56,680 EPOCH 1 done: loss 0.1528 - lr 0.100000\n"
          ]
        },
        {
          "output_type": "stream",
          "name": "stderr",
          "text": [
            "100%|██████████| 17/17 [00:03<00:00,  4.98it/s]"
          ]
        },
        {
          "output_type": "stream",
          "name": "stdout",
          "text": [
            "2022-10-11 13:19:00,106 Evaluating as a multi-label problem: False\n",
            "2022-10-11 13:19:00,120 DEV : loss 0.055510684847831726 - f1-score (micro avg)  0.5814\n",
            "2022-10-11 13:19:00,187 BAD EPOCHS (no improvement): 0\n",
            "2022-10-11 13:19:00,189 saving best model\n"
          ]
        },
        {
          "output_type": "stream",
          "name": "stderr",
          "text": [
            "\n"
          ]
        },
        {
          "output_type": "stream",
          "name": "stdout",
          "text": [
            "2022-10-11 13:19:02,009 ----------------------------------------------------------------------------------------------------\n",
            "2022-10-11 13:19:04,627 epoch 2 - iter 14/146 - loss 0.07529324 - samples/sec: 85.68 - lr: 0.100000\n",
            "2022-10-11 13:19:08,152 epoch 2 - iter 28/146 - loss 0.08049998 - samples/sec: 63.60 - lr: 0.100000\n",
            "2022-10-11 13:19:11,021 epoch 2 - iter 42/146 - loss 0.07924217 - samples/sec: 78.19 - lr: 0.100000\n",
            "2022-10-11 13:19:13,754 epoch 2 - iter 56/146 - loss 0.07523777 - samples/sec: 82.09 - lr: 0.100000\n",
            "2022-10-11 13:19:16,395 epoch 2 - iter 70/146 - loss 0.07145265 - samples/sec: 85.03 - lr: 0.100000\n",
            "2022-10-11 13:19:19,355 epoch 2 - iter 84/146 - loss 0.07077404 - samples/sec: 75.79 - lr: 0.100000\n",
            "2022-10-11 13:19:21,969 epoch 2 - iter 98/146 - loss 0.06894996 - samples/sec: 85.79 - lr: 0.100000\n",
            "2022-10-11 13:19:24,672 epoch 2 - iter 112/146 - loss 0.06864009 - samples/sec: 82.97 - lr: 0.100000\n",
            "2022-10-11 13:19:27,495 epoch 2 - iter 126/146 - loss 0.06811528 - samples/sec: 79.44 - lr: 0.100000\n",
            "2022-10-11 13:19:30,106 epoch 2 - iter 140/146 - loss 0.06706902 - samples/sec: 85.92 - lr: 0.100000\n",
            "2022-10-11 13:19:31,248 ----------------------------------------------------------------------------------------------------\n",
            "2022-10-11 13:19:31,249 EPOCH 2 done: loss 0.0663 - lr 0.100000\n"
          ]
        },
        {
          "output_type": "stream",
          "name": "stderr",
          "text": [
            "100%|██████████| 17/17 [00:03<00:00,  4.85it/s]"
          ]
        },
        {
          "output_type": "stream",
          "name": "stdout",
          "text": [
            "2022-10-11 13:19:34,768 Evaluating as a multi-label problem: False\n",
            "2022-10-11 13:19:34,782 DEV : loss 0.03968806192278862 - f1-score (micro avg)  0.6226\n",
            "2022-10-11 13:19:34,848 BAD EPOCHS (no improvement): 0\n",
            "2022-10-11 13:19:34,850 saving best model\n"
          ]
        },
        {
          "output_type": "stream",
          "name": "stderr",
          "text": [
            "\n"
          ]
        },
        {
          "output_type": "stream",
          "name": "stdout",
          "text": [
            "2022-10-11 13:19:36,720 ----------------------------------------------------------------------------------------------------\n",
            "2022-10-11 13:19:39,308 epoch 3 - iter 14/146 - loss 0.05681850 - samples/sec: 86.78 - lr: 0.100000\n",
            "2022-10-11 13:19:42,615 epoch 3 - iter 28/146 - loss 0.05649845 - samples/sec: 67.80 - lr: 0.100000\n",
            "2022-10-11 13:19:45,178 epoch 3 - iter 42/146 - loss 0.05742400 - samples/sec: 87.51 - lr: 0.100000\n",
            "2022-10-11 13:19:48,076 epoch 3 - iter 56/146 - loss 0.05680287 - samples/sec: 77.35 - lr: 0.100000\n",
            "2022-10-11 13:19:50,883 epoch 3 - iter 70/146 - loss 0.05579273 - samples/sec: 79.88 - lr: 0.100000\n",
            "2022-10-11 13:19:53,405 epoch 3 - iter 84/146 - loss 0.05666546 - samples/sec: 89.07 - lr: 0.100000\n",
            "2022-10-11 13:19:56,250 epoch 3 - iter 98/146 - loss 0.05490161 - samples/sec: 78.84 - lr: 0.100000\n",
            "2022-10-11 13:19:59,096 epoch 3 - iter 112/146 - loss 0.05493604 - samples/sec: 78.77 - lr: 0.100000\n",
            "2022-10-11 13:20:02,044 epoch 3 - iter 126/146 - loss 0.05522619 - samples/sec: 76.06 - lr: 0.100000\n",
            "2022-10-11 13:20:04,654 epoch 3 - iter 140/146 - loss 0.05468028 - samples/sec: 85.93 - lr: 0.100000\n",
            "2022-10-11 13:20:05,818 ----------------------------------------------------------------------------------------------------\n",
            "2022-10-11 13:20:05,819 EPOCH 3 done: loss 0.0539 - lr 0.100000\n"
          ]
        },
        {
          "output_type": "stream",
          "name": "stderr",
          "text": [
            "100%|██████████| 17/17 [00:03<00:00,  4.95it/s]"
          ]
        },
        {
          "output_type": "stream",
          "name": "stdout",
          "text": [
            "2022-10-11 13:20:09,272 Evaluating as a multi-label problem: False\n",
            "2022-10-11 13:20:09,284 DEV : loss 0.035438667982816696 - f1-score (micro avg)  0.6232\n",
            "2022-10-11 13:20:09,347 BAD EPOCHS (no improvement): 0\n",
            "2022-10-11 13:20:09,348 saving best model\n"
          ]
        },
        {
          "output_type": "stream",
          "name": "stderr",
          "text": [
            "\n"
          ]
        },
        {
          "output_type": "stream",
          "name": "stdout",
          "text": [
            "2022-10-11 13:20:11,187 ----------------------------------------------------------------------------------------------------\n",
            "2022-10-11 13:20:14,345 epoch 4 - iter 14/146 - loss 0.06262403 - samples/sec: 71.02 - lr: 0.100000\n",
            "2022-10-11 13:20:16,846 epoch 4 - iter 28/146 - loss 0.05368603 - samples/sec: 89.74 - lr: 0.100000\n",
            "2022-10-11 13:20:19,713 epoch 4 - iter 42/146 - loss 0.05375158 - samples/sec: 78.19 - lr: 0.100000\n",
            "2022-10-11 13:20:22,275 epoch 4 - iter 56/146 - loss 0.05051161 - samples/sec: 87.52 - lr: 0.100000\n",
            "2022-10-11 13:20:24,975 epoch 4 - iter 70/146 - loss 0.04955756 - samples/sec: 83.08 - lr: 0.100000\n",
            "2022-10-11 13:20:27,712 epoch 4 - iter 84/146 - loss 0.04946368 - samples/sec: 81.90 - lr: 0.100000\n",
            "2022-10-11 13:20:30,292 epoch 4 - iter 98/146 - loss 0.05028984 - samples/sec: 86.95 - lr: 0.100000\n",
            "2022-10-11 13:20:33,174 epoch 4 - iter 112/146 - loss 0.04985094 - samples/sec: 77.79 - lr: 0.100000\n",
            "2022-10-11 13:20:35,970 epoch 4 - iter 126/146 - loss 0.04935425 - samples/sec: 80.20 - lr: 0.100000\n",
            "2022-10-11 13:20:38,669 epoch 4 - iter 140/146 - loss 0.04906610 - samples/sec: 83.13 - lr: 0.100000\n",
            "2022-10-11 13:20:39,993 ----------------------------------------------------------------------------------------------------\n",
            "2022-10-11 13:20:39,995 EPOCH 4 done: loss 0.0487 - lr 0.100000\n"
          ]
        },
        {
          "output_type": "stream",
          "name": "stderr",
          "text": [
            "100%|██████████| 17/17 [00:03<00:00,  4.94it/s]"
          ]
        },
        {
          "output_type": "stream",
          "name": "stdout",
          "text": [
            "2022-10-11 13:20:43,459 Evaluating as a multi-label problem: False\n",
            "2022-10-11 13:20:43,475 DEV : loss 0.03667806461453438 - f1-score (micro avg)  0.6136\n",
            "2022-10-11 13:20:43,540 BAD EPOCHS (no improvement): 1\n",
            "2022-10-11 13:20:43,542 ----------------------------------------------------------------------------------------------------\n"
          ]
        },
        {
          "output_type": "stream",
          "name": "stderr",
          "text": [
            "\n"
          ]
        },
        {
          "output_type": "stream",
          "name": "stdout",
          "text": [
            "2022-10-11 13:20:46,285 epoch 5 - iter 14/146 - loss 0.04725937 - samples/sec: 81.80 - lr: 0.100000\n",
            "2022-10-11 13:20:49,108 epoch 5 - iter 28/146 - loss 0.04620849 - samples/sec: 79.43 - lr: 0.100000\n",
            "2022-10-11 13:20:51,713 epoch 5 - iter 42/146 - loss 0.04413384 - samples/sec: 86.09 - lr: 0.100000\n",
            "2022-10-11 13:20:54,595 epoch 5 - iter 56/146 - loss 0.04618054 - samples/sec: 77.82 - lr: 0.100000\n",
            "2022-10-11 13:20:57,753 epoch 5 - iter 70/146 - loss 0.04668612 - samples/sec: 70.99 - lr: 0.100000\n",
            "2022-10-11 13:21:00,540 epoch 5 - iter 84/146 - loss 0.04748203 - samples/sec: 80.44 - lr: 0.100000\n",
            "2022-10-11 13:21:03,250 epoch 5 - iter 98/146 - loss 0.04738605 - samples/sec: 82.75 - lr: 0.100000\n",
            "2022-10-11 13:21:07,000 epoch 5 - iter 112/146 - loss 0.04656185 - samples/sec: 59.78 - lr: 0.100000\n",
            "2022-10-11 13:21:09,684 epoch 5 - iter 126/146 - loss 0.04615415 - samples/sec: 83.59 - lr: 0.100000\n",
            "2022-10-11 13:21:12,353 epoch 5 - iter 140/146 - loss 0.04531297 - samples/sec: 84.00 - lr: 0.100000\n",
            "2022-10-11 13:21:13,645 ----------------------------------------------------------------------------------------------------\n",
            "2022-10-11 13:21:13,648 EPOCH 5 done: loss 0.0456 - lr 0.100000\n"
          ]
        },
        {
          "output_type": "stream",
          "name": "stderr",
          "text": [
            "100%|██████████| 17/17 [00:03<00:00,  4.98it/s]"
          ]
        },
        {
          "output_type": "stream",
          "name": "stdout",
          "text": [
            "2022-10-11 13:21:17,072 Evaluating as a multi-label problem: False\n",
            "2022-10-11 13:21:17,087 DEV : loss 0.02828693948686123 - f1-score (micro avg)  0.6494\n",
            "2022-10-11 13:21:17,153 BAD EPOCHS (no improvement): 0\n",
            "2022-10-11 13:21:17,154 saving best model\n"
          ]
        },
        {
          "output_type": "stream",
          "name": "stderr",
          "text": [
            "\n"
          ]
        },
        {
          "output_type": "stream",
          "name": "stdout",
          "text": [
            "2022-10-11 13:21:19,113 ----------------------------------------------------------------------------------------------------\n",
            "2022-10-11 13:21:21,791 epoch 6 - iter 14/146 - loss 0.03525628 - samples/sec: 83.83 - lr: 0.100000\n",
            "2022-10-11 13:21:24,610 epoch 6 - iter 28/146 - loss 0.03637641 - samples/sec: 79.55 - lr: 0.100000\n",
            "2022-10-11 13:21:27,351 epoch 6 - iter 42/146 - loss 0.03930715 - samples/sec: 81.86 - lr: 0.100000\n",
            "2022-10-11 13:21:30,190 epoch 6 - iter 56/146 - loss 0.03889151 - samples/sec: 79.07 - lr: 0.100000\n",
            "2022-10-11 13:21:32,988 epoch 6 - iter 70/146 - loss 0.04129425 - samples/sec: 80.14 - lr: 0.100000\n",
            "2022-10-11 13:21:36,038 epoch 6 - iter 84/146 - loss 0.04266545 - samples/sec: 73.50 - lr: 0.100000\n",
            "2022-10-11 13:21:38,539 epoch 6 - iter 98/146 - loss 0.04241009 - samples/sec: 89.71 - lr: 0.100000\n",
            "2022-10-11 13:21:41,067 epoch 6 - iter 112/146 - loss 0.04182324 - samples/sec: 88.84 - lr: 0.100000\n",
            "2022-10-11 13:21:43,813 epoch 6 - iter 126/146 - loss 0.04157452 - samples/sec: 81.68 - lr: 0.100000\n",
            "2022-10-11 13:21:46,957 epoch 6 - iter 140/146 - loss 0.04257682 - samples/sec: 71.32 - lr: 0.100000\n",
            "2022-10-11 13:21:48,111 ----------------------------------------------------------------------------------------------------\n",
            "2022-10-11 13:21:48,113 EPOCH 6 done: loss 0.0423 - lr 0.100000\n"
          ]
        },
        {
          "output_type": "stream",
          "name": "stderr",
          "text": [
            "100%|██████████| 17/17 [00:03<00:00,  5.01it/s]"
          ]
        },
        {
          "output_type": "stream",
          "name": "stdout",
          "text": [
            "2022-10-11 13:21:51,518 Evaluating as a multi-label problem: False\n",
            "2022-10-11 13:21:51,533 DEV : loss 0.02700667642056942 - f1-score (micro avg)  0.648\n",
            "2022-10-11 13:21:51,599 BAD EPOCHS (no improvement): 1\n",
            "2022-10-11 13:21:51,601 ----------------------------------------------------------------------------------------------------\n"
          ]
        },
        {
          "output_type": "stream",
          "name": "stderr",
          "text": [
            "\n"
          ]
        },
        {
          "output_type": "stream",
          "name": "stdout",
          "text": [
            "2022-10-11 13:21:54,285 epoch 7 - iter 14/146 - loss 0.03670209 - samples/sec: 83.61 - lr: 0.100000\n",
            "2022-10-11 13:21:57,899 epoch 7 - iter 28/146 - loss 0.04770547 - samples/sec: 62.05 - lr: 0.100000\n",
            "2022-10-11 13:22:00,767 epoch 7 - iter 42/146 - loss 0.04487721 - samples/sec: 78.18 - lr: 0.100000\n",
            "2022-10-11 13:22:03,618 epoch 7 - iter 56/146 - loss 0.04347542 - samples/sec: 78.66 - lr: 0.100000\n",
            "2022-10-11 13:22:06,394 epoch 7 - iter 70/146 - loss 0.04220254 - samples/sec: 80.93 - lr: 0.100000\n",
            "2022-10-11 13:22:08,928 epoch 7 - iter 84/146 - loss 0.04109233 - samples/sec: 88.49 - lr: 0.100000\n",
            "2022-10-11 13:22:11,740 epoch 7 - iter 98/146 - loss 0.04167064 - samples/sec: 79.74 - lr: 0.100000\n",
            "2022-10-11 13:22:14,316 epoch 7 - iter 112/146 - loss 0.04150065 - samples/sec: 87.08 - lr: 0.100000\n",
            "2022-10-11 13:22:16,752 epoch 7 - iter 126/146 - loss 0.04120344 - samples/sec: 92.07 - lr: 0.100000\n",
            "2022-10-11 13:22:19,624 epoch 7 - iter 140/146 - loss 0.04182555 - samples/sec: 78.13 - lr: 0.100000\n",
            "2022-10-11 13:22:20,821 ----------------------------------------------------------------------------------------------------\n",
            "2022-10-11 13:22:20,823 EPOCH 7 done: loss 0.0418 - lr 0.100000\n"
          ]
        },
        {
          "output_type": "stream",
          "name": "stderr",
          "text": [
            "100%|██████████| 17/17 [00:03<00:00,  4.96it/s]"
          ]
        },
        {
          "output_type": "stream",
          "name": "stdout",
          "text": [
            "2022-10-11 13:22:24,268 Evaluating as a multi-label problem: False\n",
            "2022-10-11 13:22:24,280 DEV : loss 0.028297198936343193 - f1-score (micro avg)  0.6651\n",
            "2022-10-11 13:22:24,356 BAD EPOCHS (no improvement): 0\n",
            "2022-10-11 13:22:24,359 saving best model\n"
          ]
        },
        {
          "output_type": "stream",
          "name": "stderr",
          "text": [
            "\n"
          ]
        },
        {
          "output_type": "stream",
          "name": "stdout",
          "text": [
            "2022-10-11 13:22:26,220 ----------------------------------------------------------------------------------------------------\n",
            "2022-10-11 13:22:29,607 epoch 8 - iter 14/146 - loss 0.04137154 - samples/sec: 66.38 - lr: 0.100000\n",
            "2022-10-11 13:22:32,516 epoch 8 - iter 28/146 - loss 0.04116820 - samples/sec: 77.08 - lr: 0.100000\n",
            "2022-10-11 13:22:35,210 epoch 8 - iter 42/146 - loss 0.04105112 - samples/sec: 83.22 - lr: 0.100000\n",
            "2022-10-11 13:22:38,079 epoch 8 - iter 56/146 - loss 0.04078057 - samples/sec: 78.17 - lr: 0.100000\n",
            "2022-10-11 13:22:40,870 epoch 8 - iter 70/146 - loss 0.04044259 - samples/sec: 80.36 - lr: 0.100000\n",
            "2022-10-11 13:22:43,665 epoch 8 - iter 84/146 - loss 0.04037007 - samples/sec: 80.23 - lr: 0.100000\n",
            "2022-10-11 13:22:46,366 epoch 8 - iter 98/146 - loss 0.03968468 - samples/sec: 83.15 - lr: 0.100000\n",
            "2022-10-11 13:22:48,854 epoch 8 - iter 112/146 - loss 0.03979185 - samples/sec: 90.29 - lr: 0.100000\n",
            "2022-10-11 13:22:51,550 epoch 8 - iter 126/146 - loss 0.03926638 - samples/sec: 83.21 - lr: 0.100000\n",
            "2022-10-11 13:22:54,161 epoch 8 - iter 140/146 - loss 0.03878389 - samples/sec: 85.90 - lr: 0.100000\n",
            "2022-10-11 13:22:55,412 ----------------------------------------------------------------------------------------------------\n",
            "2022-10-11 13:22:55,414 EPOCH 8 done: loss 0.0386 - lr 0.100000\n"
          ]
        },
        {
          "output_type": "stream",
          "name": "stderr",
          "text": [
            "100%|██████████| 17/17 [00:03<00:00,  4.93it/s]"
          ]
        },
        {
          "output_type": "stream",
          "name": "stdout",
          "text": [
            "2022-10-11 13:22:58,875 Evaluating as a multi-label problem: False\n",
            "2022-10-11 13:22:58,890 DEV : loss 0.02517099492251873 - f1-score (micro avg)  0.7064\n",
            "2022-10-11 13:22:58,960 BAD EPOCHS (no improvement): 0\n",
            "2022-10-11 13:22:58,962 saving best model\n"
          ]
        },
        {
          "output_type": "stream",
          "name": "stderr",
          "text": [
            "\n"
          ]
        },
        {
          "output_type": "stream",
          "name": "stdout",
          "text": [
            "2022-10-11 13:23:00,842 ----------------------------------------------------------------------------------------------------\n",
            "2022-10-11 13:23:03,763 epoch 9 - iter 14/146 - loss 0.03648426 - samples/sec: 76.82 - lr: 0.100000\n",
            "2022-10-11 13:23:06,162 epoch 9 - iter 28/146 - loss 0.03740705 - samples/sec: 93.55 - lr: 0.100000\n",
            "2022-10-11 13:23:08,751 epoch 9 - iter 42/146 - loss 0.03502402 - samples/sec: 86.66 - lr: 0.100000\n",
            "2022-10-11 13:23:11,173 epoch 9 - iter 56/146 - loss 0.03757736 - samples/sec: 92.61 - lr: 0.100000\n",
            "2022-10-11 13:23:13,774 epoch 9 - iter 70/146 - loss 0.03635203 - samples/sec: 86.39 - lr: 0.100000\n",
            "2022-10-11 13:23:16,834 epoch 9 - iter 84/146 - loss 0.03712737 - samples/sec: 73.28 - lr: 0.100000\n",
            "2022-10-11 13:23:19,729 epoch 9 - iter 98/146 - loss 0.03660671 - samples/sec: 77.44 - lr: 0.100000\n",
            "2022-10-11 13:23:22,579 epoch 9 - iter 112/146 - loss 0.03655153 - samples/sec: 78.66 - lr: 0.100000\n",
            "2022-10-11 13:23:25,675 epoch 9 - iter 126/146 - loss 0.03770027 - samples/sec: 72.52 - lr: 0.100000\n",
            "2022-10-11 13:23:28,654 epoch 9 - iter 140/146 - loss 0.03742049 - samples/sec: 75.26 - lr: 0.100000\n",
            "2022-10-11 13:23:29,903 ----------------------------------------------------------------------------------------------------\n",
            "2022-10-11 13:23:29,906 EPOCH 9 done: loss 0.0375 - lr 0.100000\n"
          ]
        },
        {
          "output_type": "stream",
          "name": "stderr",
          "text": [
            "100%|██████████| 17/17 [00:03<00:00,  4.93it/s]"
          ]
        },
        {
          "output_type": "stream",
          "name": "stdout",
          "text": [
            "2022-10-11 13:23:33,364 Evaluating as a multi-label problem: False\n",
            "2022-10-11 13:23:33,379 DEV : loss 0.023691877722740173 - f1-score (micro avg)  0.7594\n",
            "2022-10-11 13:23:33,442 BAD EPOCHS (no improvement): 0\n",
            "2022-10-11 13:23:33,443 saving best model\n"
          ]
        },
        {
          "output_type": "stream",
          "name": "stderr",
          "text": [
            "\n"
          ]
        },
        {
          "output_type": "stream",
          "name": "stdout",
          "text": [
            "2022-10-11 13:23:35,314 ----------------------------------------------------------------------------------------------------\n",
            "2022-10-11 13:23:38,721 epoch 10 - iter 14/146 - loss 0.04345506 - samples/sec: 65.86 - lr: 0.100000\n",
            "2022-10-11 13:23:41,588 epoch 10 - iter 28/146 - loss 0.03748644 - samples/sec: 78.24 - lr: 0.100000\n",
            "2022-10-11 13:23:45,408 epoch 10 - iter 42/146 - loss 0.03684744 - samples/sec: 58.71 - lr: 0.100000\n",
            "2022-10-11 13:23:48,147 epoch 10 - iter 56/146 - loss 0.03603312 - samples/sec: 81.86 - lr: 0.100000\n",
            "2022-10-11 13:23:50,515 epoch 10 - iter 70/146 - loss 0.03648455 - samples/sec: 94.70 - lr: 0.100000\n",
            "2022-10-11 13:23:53,420 epoch 10 - iter 84/146 - loss 0.03503575 - samples/sec: 77.19 - lr: 0.100000\n",
            "2022-10-11 13:23:56,201 epoch 10 - iter 98/146 - loss 0.03531599 - samples/sec: 80.77 - lr: 0.100000\n",
            "2022-10-11 13:23:58,660 epoch 10 - iter 112/146 - loss 0.03561289 - samples/sec: 91.20 - lr: 0.100000\n",
            "2022-10-11 13:24:01,518 epoch 10 - iter 126/146 - loss 0.03629372 - samples/sec: 78.44 - lr: 0.100000\n",
            "2022-10-11 13:24:04,177 epoch 10 - iter 140/146 - loss 0.03566310 - samples/sec: 84.33 - lr: 0.100000\n",
            "2022-10-11 13:24:05,349 ----------------------------------------------------------------------------------------------------\n",
            "2022-10-11 13:24:05,350 EPOCH 10 done: loss 0.0358 - lr 0.100000\n"
          ]
        },
        {
          "output_type": "stream",
          "name": "stderr",
          "text": [
            "100%|██████████| 17/17 [00:03<00:00,  5.02it/s]"
          ]
        },
        {
          "output_type": "stream",
          "name": "stdout",
          "text": [
            "2022-10-11 13:24:08,753 Evaluating as a multi-label problem: False\n",
            "2022-10-11 13:24:08,768 DEV : loss 0.022004157304763794 - f1-score (micro avg)  0.7433\n",
            "2022-10-11 13:24:08,831 BAD EPOCHS (no improvement): 1\n"
          ]
        },
        {
          "output_type": "stream",
          "name": "stderr",
          "text": [
            "\n"
          ]
        },
        {
          "output_type": "stream",
          "name": "stdout",
          "text": [
            "2022-10-11 13:24:10,681 ----------------------------------------------------------------------------------------------------\n",
            "2022-10-11 13:24:10,684 loading file resources/taggers/sota-ner-flair/best-model.pt\n",
            "2022-10-11 13:24:11,715 SequenceTagger predicts: Dictionary with 7 tags: O, S-ORG, B-ORG, E-ORG, I-ORG, <START>, <STOP>\n"
          ]
        },
        {
          "output_type": "stream",
          "name": "stderr",
          "text": [
            "100%|██████████| 70/70 [01:25<00:00,  1.22s/it]"
          ]
        },
        {
          "output_type": "stream",
          "name": "stdout",
          "text": [
            "2022-10-11 13:25:37,140 Evaluating as a multi-label problem: False\n",
            "2022-10-11 13:25:37,159 0.7491\t0.6941\t0.7205\t0.5632\n",
            "2022-10-11 13:25:37,160 \n",
            "Results:\n",
            "- F-score (micro) 0.7205\n",
            "- F-score (macro) 0.7205\n",
            "- Accuracy 0.5632\n",
            "\n",
            "By class:\n",
            "              precision    recall  f1-score   support\n",
            "\n",
            "         ORG     0.7491    0.6941    0.7205       925\n",
            "\n",
            "   micro avg     0.7491    0.6941    0.7205       925\n",
            "   macro avg     0.7491    0.6941    0.7205       925\n",
            "weighted avg     0.7491    0.6941    0.7205       925\n",
            "\n",
            "2022-10-11 13:25:37,163 ----------------------------------------------------------------------------------------------------\n"
          ]
        },
        {
          "output_type": "stream",
          "name": "stderr",
          "text": [
            "\n"
          ]
        },
        {
          "output_type": "execute_result",
          "data": {
            "text/plain": [
              "{'test_score': 0.7205387205387206,\n",
              " 'dev_score_history': [0.5813953488372093,\n",
              "  0.6226415094339622,\n",
              "  0.6231884057971014,\n",
              "  0.6136363636363636,\n",
              "  0.6494117647058824,\n",
              "  0.6480186480186481,\n",
              "  0.6651053864168619,\n",
              "  0.7064439140811457,\n",
              "  0.7594339622641508,\n",
              "  0.7432762836185819],\n",
              " 'train_loss_history': [0.1527855202287295,\n",
              "  0.06633509599347677,\n",
              "  0.05386010580421053,\n",
              "  0.04868079927052878,\n",
              "  0.045621785198081195,\n",
              "  0.04234102438319594,\n",
              "  0.041796973833808364,\n",
              "  0.03858111388641701,\n",
              "  0.03751684271699241,\n",
              "  0.03578229459732843],\n",
              " 'dev_loss_history': [0.055510684847831726,\n",
              "  0.03968806192278862,\n",
              "  0.035438667982816696,\n",
              "  0.03667806461453438,\n",
              "  0.02828693948686123,\n",
              "  0.02700667642056942,\n",
              "  0.028297198936343193,\n",
              "  0.02517099492251873,\n",
              "  0.023691877722740173,\n",
              "  0.022004157304763794]}"
            ]
          },
          "metadata": {},
          "execution_count": 7
        }
      ]
    }
  ]
}